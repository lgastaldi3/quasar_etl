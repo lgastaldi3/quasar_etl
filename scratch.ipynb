{
 "cells": [
  {
   "cell_type": "markdown",
   "id": "0de62412",
   "metadata": {},
   "source": [
    "# ETL for Bitcoin Data Past 5\n",
    "\n",
    "Code for extracting bitcoin data and storing it to DB"
   ]
  },
  {
   "cell_type": "markdown",
   "id": "c9729e27",
   "metadata": {},
   "source": [
    "## Step 1: Extracting and Parsing CSV Data"
   ]
  },
  {
   "cell_type": "markdown",
   "id": "515ad0d6",
   "metadata": {},
   "source": [
    "### Download and Import Dependencies"
   ]
  },
  {
   "cell_type": "code",
   "execution_count": 155,
   "id": "a1497c3b",
   "metadata": {},
   "outputs": [
    {
     "name": "stdout",
     "output_type": "stream",
     "text": [
      "Requirement already satisfied: pandas in ./.venv/lib/python3.13/site-packages (2.3.3)\n",
      "Requirement already satisfied: numpy>=1.26.0 in ./.venv/lib/python3.13/site-packages (from pandas) (2.3.4)\n",
      "Requirement already satisfied: python-dateutil>=2.8.2 in ./.venv/lib/python3.13/site-packages (from pandas) (2.9.0.post0)\n",
      "Requirement already satisfied: pytz>=2020.1 in ./.venv/lib/python3.13/site-packages (from pandas) (2025.2)\n",
      "Requirement already satisfied: tzdata>=2022.7 in ./.venv/lib/python3.13/site-packages (from pandas) (2025.2)\n",
      "Requirement already satisfied: six>=1.5 in ./.venv/lib/python3.13/site-packages (from python-dateutil>=2.8.2->pandas) (1.17.0)\n",
      "Note: you may need to restart the kernel to use updated packages.\n",
      "Requirement already satisfied: psycopg2-binary in ./.venv/lib/python3.13/site-packages (2.9.11)\n",
      "Note: you may need to restart the kernel to use updated packages.\n",
      "Collecting dotenv\n",
      "  Downloading dotenv-0.9.9-py2.py3-none-any.whl.metadata (279 bytes)\n",
      "Collecting python-dotenv (from dotenv)\n",
      "  Using cached python_dotenv-1.1.1-py3-none-any.whl.metadata (24 kB)\n",
      "Downloading dotenv-0.9.9-py2.py3-none-any.whl (1.9 kB)\n",
      "Using cached python_dotenv-1.1.1-py3-none-any.whl (20 kB)\n",
      "Installing collected packages: python-dotenv, dotenv\n",
      "\u001b[2K   \u001b[90m━━━━━━━━━━━━━━━━━━━━━━━━━━━━━━━━━━━━━━━━\u001b[0m \u001b[32m2/2\u001b[0m [dotenv]\n",
      "\u001b[1A\u001b[2KSuccessfully installed dotenv-0.9.9 python-dotenv-1.1.1\n",
      "Note: you may need to restart the kernel to use updated packages.\n"
     ]
    }
   ],
   "source": [
    "%pip install pandas\n",
    "%pip install psycopg2-binary\n",
    "%pip install dotenv"
   ]
  },
  {
   "cell_type": "code",
   "execution_count": 71,
   "id": "aaa79182",
   "metadata": {},
   "outputs": [],
   "source": [
    "import pandas as pd\n",
    "import os\n",
    "import psycopg2\n",
    "from io import StringIO\n",
    "import re\n",
    "from datetime import datetime, time, timezone\n",
    "\n",
    "FILENAME_PATTERN = re.compile(r\"^btcusd-(\\d{4})-(\\d{2})-(\\d{2})\")\n",
    "\n"
   ]
  },
  {
   "cell_type": "code",
   "execution_count": null,
   "id": "ee9361ce",
   "metadata": {},
   "outputs": [
    {
     "name": "stdout",
     "output_type": "stream",
     "text": [
      "2012-01-13\n"
     ]
    }
   ],
   "source": [
    "def parse_file_name(file_name):\n",
    "    stem, ext = os.path.splitext(file_name)\n",
    "\n",
    "    if (ext != \".csv\"):\n",
    "        raise Exception(f\"{file_name} Input must be CSV.\")\n",
    "    \n",
    "    if (not FILENAME_PATTERN.match(stem)):\n",
    "        raise Exception(f\"{file_name} must be a valid file name (btcusd-YYYY-MM-DD.csv).\")\n",
    "\n",
    "    return '-'.join(stem.split('-')[1:])\n"
   ]
  },
  {
   "cell_type": "code",
   "execution_count": null,
   "id": "48fcf7ba",
   "metadata": {},
   "outputs": [],
   "source": [
    "def extract_csv_contents(folder_path, file_name):\n",
    "\n",
    "    file_path = os.path.join(folder_path, file_name)\n",
    "\n",
    "    df = None\n",
    "    if (os.path.isfile(file_path)):\n",
    "        try:\n",
    "            date = parse_file_name(file_name)\n",
    "            df = pd.read_csv(file_path).dropna(axis=0, how=\"any\")\n",
    "            df[\"timestamp\"] = pd.to_datetime(date + \" \" + df[\"Time\"])\n",
    "            df = df[['timestamp', \"Open\", \"High\", \"Low\", \"Close\", \"Volume_(BTC)\", \"Volume_(Currency)\", \"Weighted_Price\"]]\n",
    "        except Exception as e:\n",
    "            print(f\"Problem reading file {file_path} with error {e}.\")\n",
    "    return df\n",
    "\n",
    "    \n",
    "df = extract_csv_contents(\"dataset\", \"btcusd-2012-10-02.csv\")"
   ]
  },
  {
   "cell_type": "code",
   "execution_count": 139,
   "id": "6e20b42c",
   "metadata": {},
   "outputs": [],
   "source": [
    "\n",
    "conn = psycopg2.connect(database=\"postgres\",\n",
    "                        host=\"localhost\",\n",
    "                        user=\"postgres\",\n",
    "                        password=\"password\",\n",
    "                        port=\"5432\")\n",
    "cursor = conn.cursor()"
   ]
  },
  {
   "cell_type": "code",
   "execution_count": null,
   "id": "cece9cd6",
   "metadata": {},
   "outputs": [],
   "source": [
    "\n",
    "def insert_df_to_db(df, cursor):\n",
    "    \n",
    "    if (df is None or df.empty):\n",
    "        raise Exception(\"Dataframe is empty or None.\")\n",
    "    try:\n",
    "        buffer = StringIO()\n",
    "        df.to_csv(buffer, index=False, header=False)\n",
    "        buffer.seek(0)\n",
    "\n",
    "        cursor.copy_expert(\"\"\"\n",
    "            COPY bitcoin_prices(\n",
    "                timestamp, open, high, low, close, volume_btc, volume_usd, weighted_price\n",
    "            )\n",
    "            FROM STDIN WITH CSV\n",
    "            ON CONFLICT DO NOTHING\n",
    "        \"\"\", buffer)\n",
    "\n",
    "    except Exception as e:\n",
    "        print(\"Problem copying CSV data into DB\")"
   ]
  },
  {
   "cell_type": "code",
   "execution_count": null,
   "id": "7ccd5b7f",
   "metadata": {},
   "outputs": [
    {
     "name": "stdout",
     "output_type": "stream",
     "text": [
      "[]\n"
     ]
    }
   ],
   "source": [
    "print(cursor.fetchall())\n",
    "conn.commit()\n",
    "conn.close()\n",
    "cursor.close()"
   ]
  },
  {
   "cell_type": "markdown",
   "id": "657aea8a",
   "metadata": {},
   "source": [
    "## Sort filenames by date"
   ]
  },
  {
   "cell_type": "code",
   "execution_count": 35,
   "id": "ae1d99b5",
   "metadata": {},
   "outputs": [
    {
     "name": "stdout",
     "output_type": "stream",
     "text": [
      "['btcusd-2011-12-31.csv', 'btcusd-2012-01-01.csv', 'btcusd-2012-01-02.csv', 'btcusd-2012-01-03.csv', 'btcusd-2012-01-04.csv', 'btcusd-2012-01-05.csv', 'btcusd-2012-01-06.csv', 'btcusd-2012-01-07.csv', 'btcusd-2012-01-08.csv', 'btcusd-2012-01-09.csv', 'btcusd-2012-01-10.csv', 'btcusd-2012-01-11.csv', 'btcusd-2012-01-12.csv', 'btcusd-2012-01-13.csv', 'btcusd-2012-01-14.csv', 'btcusd-2012-01-15.csv', 'btcusd-2012-01-16.csv', 'btcusd-2012-01-17.csv', 'btcusd-2012-01-18.csv', 'btcusd-2012-01-19.csv', 'btcusd-2012-01-20.csv', 'btcusd-2012-01-21.csv', 'btcusd-2012-01-22.csv', 'btcusd-2012-01-23.csv', 'btcusd-2012-01-24.csv', 'btcusd-2012-01-25.csv', 'btcusd-2012-01-26.csv', 'btcusd-2012-01-27.csv', 'btcusd-2012-01-28.csv', 'btcusd-2012-01-29.csv', 'btcusd-2012-01-30.csv', 'btcusd-2012-01-31.csv', 'btcusd-2012-02-01.csv', 'btcusd-2012-02-02.csv', 'btcusd-2012-02-03.csv', 'btcusd-2012-02-04.csv', 'btcusd-2012-02-05.csv', 'btcusd-2012-02-06.csv', 'btcusd-2012-02-07.csv', 'btcusd-2012-02-08.csv', 'btcusd-2012-02-09.csv', 'btcusd-2012-02-10.csv', 'btcusd-2012-02-11.csv', 'btcusd-2012-02-12.csv', 'btcusd-2012-02-13.csv', 'btcusd-2012-02-14.csv', 'btcusd-2012-02-15.csv', 'btcusd-2012-02-16.csv', 'btcusd-2012-02-17.csv', 'btcusd-2012-02-18.csv', 'btcusd-2012-02-19.csv', 'btcusd-2012-02-20.csv', 'btcusd-2012-02-21.csv', 'btcusd-2012-02-22.csv', 'btcusd-2012-02-23.csv', 'btcusd-2012-02-24.csv', 'btcusd-2012-02-25.csv', 'btcusd-2012-02-26.csv', 'btcusd-2012-02-27.csv', 'btcusd-2012-02-28.csv', 'btcusd-2012-02-29.csv', 'btcusd-2012-03-01.csv', 'btcusd-2012-03-02.csv', 'btcusd-2012-03-03.csv', 'btcusd-2012-03-04.csv', 'btcusd-2012-03-05.csv', 'btcusd-2012-03-06.csv', 'btcusd-2012-03-07.csv', 'btcusd-2012-03-08.csv', 'btcusd-2012-03-09.csv', 'btcusd-2012-03-10.csv', 'btcusd-2012-03-11.csv', 'btcusd-2012-03-12.csv', 'btcusd-2012-03-13.csv', 'btcusd-2012-03-14.csv', 'btcusd-2012-03-15.csv', 'btcusd-2012-03-16.csv', 'btcusd-2012-03-17.csv', 'btcusd-2012-03-18.csv', 'btcusd-2012-03-19.csv', 'btcusd-2012-03-20.csv', 'btcusd-2012-03-21.csv', 'btcusd-2012-03-22.csv', 'btcusd-2012-03-23.csv', 'btcusd-2012-03-24.csv', 'btcusd-2012-03-25.csv', 'btcusd-2012-03-26.csv', 'btcusd-2012-03-27.csv', 'btcusd-2012-03-28.csv', 'btcusd-2012-03-29.csv', 'btcusd-2012-03-30.csv', 'btcusd-2012-03-31.csv', 'btcusd-2012-04-01.csv', 'btcusd-2012-04-02.csv', 'btcusd-2012-04-03.csv', 'btcusd-2012-04-04.csv', 'btcusd-2012-04-05.csv', 'btcusd-2012-04-06.csv', 'btcusd-2012-04-07.csv', 'btcusd-2012-04-08.csv', 'btcusd-2012-04-09.csv', 'btcusd-2012-04-10.csv', 'btcusd-2012-04-11.csv', 'btcusd-2012-04-12.csv', 'btcusd-2012-04-13.csv', 'btcusd-2012-04-14.csv', 'btcusd-2012-04-15.csv', 'btcusd-2012-04-16.csv', 'btcusd-2012-04-17.csv', 'btcusd-2012-04-18.csv', 'btcusd-2012-04-19.csv', 'btcusd-2012-04-20.csv', 'btcusd-2012-04-21.csv', 'btcusd-2012-04-22.csv', 'btcusd-2012-04-23.csv', 'btcusd-2012-04-24.csv', 'btcusd-2012-04-25.csv', 'btcusd-2012-04-26.csv', 'btcusd-2012-04-27.csv', 'btcusd-2012-04-28.csv', 'btcusd-2012-04-29.csv', 'btcusd-2012-04-30.csv', 'btcusd-2012-05-01.csv', 'btcusd-2012-05-02.csv', 'btcusd-2012-05-03.csv', 'btcusd-2012-05-04.csv', 'btcusd-2012-05-05.csv', 'btcusd-2012-05-06.csv', 'btcusd-2012-05-07.csv', 'btcusd-2012-05-08.csv', 'btcusd-2012-05-09.csv', 'btcusd-2012-05-10.csv', 'btcusd-2012-05-11.csv', 'btcusd-2012-05-12.csv', 'btcusd-2012-05-13.csv', 'btcusd-2012-05-14.csv', 'btcusd-2012-05-15.csv', 'btcusd-2012-05-16.csv', 'btcusd-2012-05-17.csv', 'btcusd-2012-05-18.csv', 'btcusd-2012-05-19.csv', 'btcusd-2012-05-20.csv', 'btcusd-2012-05-21.csv', 'btcusd-2012-05-22.csv', 'btcusd-2012-05-23.csv', 'btcusd-2012-05-24.csv', 'btcusd-2012-05-25.csv', 'btcusd-2012-05-26.csv', 'btcusd-2012-05-27.csv', 'btcusd-2012-05-28.csv', 'btcusd-2012-05-29.csv', 'btcusd-2012-05-30.csv', 'btcusd-2012-05-31.csv', 'btcusd-2012-06-01.csv', 'btcusd-2012-06-02.csv', 'btcusd-2012-06-03.csv', 'btcusd-2012-06-04.csv', 'btcusd-2012-06-05.csv', 'btcusd-2012-06-06.csv', 'btcusd-2012-06-07.csv', 'btcusd-2012-06-08.csv', 'btcusd-2012-06-09.csv', 'btcusd-2012-06-10.csv', 'btcusd-2012-06-11.csv', 'btcusd-2012-06-12.csv', 'btcusd-2012-06-13.csv', 'btcusd-2012-06-14.csv', 'btcusd-2012-06-15.csv', 'btcusd-2012-06-16.csv', 'btcusd-2012-06-17.csv', 'btcusd-2012-06-18.csv', 'btcusd-2012-06-19.csv', 'btcusd-2012-06-20.csv', 'btcusd-2012-06-21.csv', 'btcusd-2012-06-22.csv', 'btcusd-2012-06-23.csv', 'btcusd-2012-06-24.csv', 'btcusd-2012-06-25.csv', 'btcusd-2012-06-26.csv', 'btcusd-2012-06-27.csv', 'btcusd-2012-06-28.csv', 'btcusd-2012-06-29.csv', 'btcusd-2012-06-30.csv', 'btcusd-2012-07-01.csv', 'btcusd-2012-07-02.csv', 'btcusd-2012-07-03.csv', 'btcusd-2012-07-04.csv', 'btcusd-2012-07-05.csv', 'btcusd-2012-07-06.csv', 'btcusd-2012-07-07.csv', 'btcusd-2012-07-08.csv', 'btcusd-2012-07-09.csv', 'btcusd-2012-07-10.csv', 'btcusd-2012-07-11.csv', 'btcusd-2012-07-12.csv', 'btcusd-2012-07-13.csv', 'btcusd-2012-07-14.csv', 'btcusd-2012-07-15.csv', 'btcusd-2012-07-16.csv', 'btcusd-2012-07-17.csv', 'btcusd-2012-07-18.csv', 'btcusd-2012-07-19.csv', 'btcusd-2012-07-20.csv', 'btcusd-2012-07-21.csv', 'btcusd-2012-07-22.csv', 'btcusd-2012-07-23.csv', 'btcusd-2012-07-24.csv', 'btcusd-2012-07-25.csv', 'btcusd-2012-07-26.csv', 'btcusd-2012-07-27.csv', 'btcusd-2012-07-28.csv', 'btcusd-2012-07-29.csv', 'btcusd-2012-07-30.csv', 'btcusd-2012-07-31.csv', 'btcusd-2012-08-01.csv', 'btcusd-2012-08-02.csv', 'btcusd-2012-08-03.csv', 'btcusd-2012-08-04.csv', 'btcusd-2012-08-05.csv', 'btcusd-2012-08-06.csv', 'btcusd-2012-08-07.csv', 'btcusd-2012-08-08.csv', 'btcusd-2012-08-09.csv', 'btcusd-2012-08-10.csv', 'btcusd-2012-08-11.csv', 'btcusd-2012-08-12.csv', 'btcusd-2012-08-13.csv', 'btcusd-2012-08-14.csv', 'btcusd-2012-08-15.csv', 'btcusd-2012-08-16.csv', 'btcusd-2012-08-17.csv', 'btcusd-2012-08-18.csv', 'btcusd-2012-08-19.csv', 'btcusd-2012-08-20.csv', 'btcusd-2012-08-21.csv', 'btcusd-2012-08-22.csv', 'btcusd-2012-08-23.csv', 'btcusd-2012-08-24.csv', 'btcusd-2012-08-25.csv', 'btcusd-2012-08-26.csv', 'btcusd-2012-08-27.csv', 'btcusd-2012-08-28.csv', 'btcusd-2012-08-29.csv', 'btcusd-2012-08-30.csv', 'btcusd-2012-08-31.csv', 'btcusd-2012-09-01.csv', 'btcusd-2012-09-02.csv', 'btcusd-2012-09-03.csv', 'btcusd-2012-09-04.csv', 'btcusd-2012-09-05.csv', 'btcusd-2012-09-06.csv', 'btcusd-2012-09-07.csv', 'btcusd-2012-09-08.csv', 'btcusd-2012-09-09.csv', 'btcusd-2012-09-10.csv', 'btcusd-2012-09-11.csv', 'btcusd-2012-09-12.csv', 'btcusd-2012-09-13.csv', 'btcusd-2012-09-14.csv', 'btcusd-2012-09-15.csv', 'btcusd-2012-09-16.csv', 'btcusd-2012-09-17.csv', 'btcusd-2012-09-18.csv', 'btcusd-2012-09-19.csv', 'btcusd-2012-09-20.csv', 'btcusd-2012-09-21.csv', 'btcusd-2012-09-22.csv', 'btcusd-2012-09-23.csv', 'btcusd-2012-09-24.csv', 'btcusd-2012-09-25.csv', 'btcusd-2012-09-26.csv', 'btcusd-2012-09-27.csv', 'btcusd-2012-09-28.csv', 'btcusd-2012-09-29.csv', 'btcusd-2012-09-30.csv', 'btcusd-2012-10-01.csv', 'btcusd-2012-10-02.csv', 'btcusd-2012-10-03.csv', 'btcusd-2012-10-04.csv', 'btcusd-2012-10-05.csv', 'btcusd-2012-10-06.csv', 'btcusd-2012-10-07.csv', 'btcusd-2012-10-08.csv', 'btcusd-2012-10-09.csv', 'btcusd-2012-10-10.csv', 'btcusd-2012-10-11.csv', 'btcusd-2012-10-12.csv', 'btcusd-2012-10-13.csv', 'btcusd-2012-10-14.csv', 'btcusd-2012-10-15.csv', 'btcusd-2012-10-16.csv', 'btcusd-2012-10-17.csv', 'btcusd-2012-10-18.csv', 'btcusd-2012-10-19.csv', 'btcusd-2012-10-20.csv', 'btcusd-2012-10-21.csv', 'btcusd-2012-10-22.csv', 'btcusd-2012-10-23.csv', 'btcusd-2012-10-24.csv', 'btcusd-2012-10-25.csv', 'btcusd-2012-10-26.csv', 'btcusd-2012-10-27.csv', 'btcusd-2012-10-28.csv', 'btcusd-2012-10-29.csv', 'btcusd-2012-10-30.csv', 'btcusd-2012-10-31.csv', 'btcusd-2012-11-01.csv', 'btcusd-2012-11-02.csv', 'btcusd-2012-11-03.csv', 'btcusd-2012-11-04.csv', 'btcusd-2012-11-05.csv', 'btcusd-2012-11-06.csv', 'btcusd-2012-11-07.csv', 'btcusd-2012-11-08.csv', 'btcusd-2012-11-09.csv', 'btcusd-2012-11-10.csv', 'btcusd-2012-11-11.csv', 'btcusd-2012-11-12.csv', 'btcusd-2012-11-13.csv', 'btcusd-2012-11-14.csv', 'btcusd-2012-11-15.csv', 'btcusd-2012-11-16.csv', 'btcusd-2012-11-17.csv', 'btcusd-2012-11-18.csv', 'btcusd-2012-11-19.csv', 'btcusd-2012-11-20.csv', 'btcusd-2012-11-21.csv', 'btcusd-2012-11-22.csv', 'btcusd-2012-11-23.csv', 'btcusd-2012-11-24.csv', 'btcusd-2012-11-25.csv', 'btcusd-2012-11-26.csv', 'btcusd-2012-11-27.csv', 'btcusd-2012-11-28.csv', 'btcusd-2012-11-29.csv', 'btcusd-2012-11-30.csv', 'btcusd-2012-12-01.csv', 'btcusd-2012-12-02.csv', 'btcusd-2012-12-03.csv', 'btcusd-2012-12-04.csv', 'btcusd-2012-12-05.csv', 'btcusd-2012-12-06.csv', 'btcusd-2012-12-07.csv', 'btcusd-2012-12-08.csv', 'btcusd-2012-12-09.csv', 'btcusd-2012-12-10.csv', 'btcusd-2012-12-11.csv', 'btcusd-2012-12-12.csv', 'btcusd-2012-12-13.csv', 'btcusd-2012-12-14.csv', 'btcusd-2012-12-15.csv', 'btcusd-2012-12-16.csv', 'btcusd-2012-12-17.csv', 'btcusd-2012-12-18.csv', 'btcusd-2012-12-19.csv', 'btcusd-2012-12-20.csv', 'btcusd-2012-12-21.csv', 'btcusd-2012-12-22.csv', 'btcusd-2012-12-23.csv', 'btcusd-2012-12-24.csv', 'btcusd-2012-12-25.csv', 'btcusd-2012-12-26.csv', 'btcusd-2012-12-27.csv', 'btcusd-2012-12-28.csv', 'btcusd-2012-12-29.csv', 'btcusd-2012-12-30.csv', 'btcusd-2012-12-31.csv', 'btcusd-2013-01-01.csv', 'btcusd-2013-01-02.csv', 'btcusd-2013-01-03.csv', 'btcusd-2013-01-04.csv', 'btcusd-2013-01-05.csv', 'btcusd-2013-01-06.csv', 'btcusd-2013-01-07.csv', 'btcusd-2013-01-08.csv', 'btcusd-2013-01-09.csv', 'btcusd-2013-01-10.csv', 'btcusd-2013-01-11.csv', 'btcusd-2013-01-12.csv', 'btcusd-2013-01-13.csv', 'btcusd-2013-01-14.csv', 'btcusd-2013-01-15.csv', 'btcusd-2013-01-16.csv', 'btcusd-2013-01-17.csv', 'btcusd-2013-01-18.csv', 'btcusd-2013-01-19.csv', 'btcusd-2013-01-20.csv', 'btcusd-2013-01-21.csv', 'btcusd-2013-01-22.csv', 'btcusd-2013-01-23.csv', 'btcusd-2013-01-24.csv', 'btcusd-2013-01-25.csv', 'btcusd-2013-01-26.csv', 'btcusd-2013-01-27.csv', 'btcusd-2013-01-28.csv', 'btcusd-2013-01-29.csv', 'btcusd-2013-01-30.csv', 'btcusd-2013-01-31.csv', 'btcusd-2013-02-01.csv', 'btcusd-2013-02-02.csv', 'btcusd-2013-02-03.csv', 'btcusd-2013-02-04.csv', 'btcusd-2013-02-05.csv', 'btcusd-2013-02-06.csv', 'btcusd-2013-02-07.csv', 'btcusd-2013-02-08.csv', 'btcusd-2013-02-09.csv', 'btcusd-2013-02-10.csv', 'btcusd-2013-02-11.csv', 'btcusd-2013-02-12.csv', 'btcusd-2013-02-13.csv', 'btcusd-2013-02-14.csv', 'btcusd-2013-02-15.csv', 'btcusd-2013-02-16.csv', 'btcusd-2013-02-17.csv', 'btcusd-2013-02-18.csv', 'btcusd-2013-02-19.csv', 'btcusd-2013-02-20.csv', 'btcusd-2013-02-21.csv', 'btcusd-2013-02-22.csv', 'btcusd-2013-02-23.csv', 'btcusd-2013-02-24.csv', 'btcusd-2013-02-25.csv', 'btcusd-2013-02-26.csv', 'btcusd-2013-02-27.csv', 'btcusd-2013-02-28.csv', 'btcusd-2013-03-01.csv', 'btcusd-2013-03-02.csv', 'btcusd-2013-03-03.csv', 'btcusd-2013-03-04.csv', 'btcusd-2013-03-05.csv', 'btcusd-2013-03-06.csv', 'btcusd-2013-03-07.csv', 'btcusd-2013-03-08.csv', 'btcusd-2013-03-09.csv', 'btcusd-2013-03-10.csv', 'btcusd-2013-03-11.csv', 'btcusd-2013-03-12.csv', 'btcusd-2013-03-13.csv', 'btcusd-2013-03-14.csv', 'btcusd-2013-03-15.csv', 'btcusd-2013-03-16.csv', 'btcusd-2013-03-17.csv', 'btcusd-2013-03-18.csv', 'btcusd-2013-03-19.csv', 'btcusd-2013-03-20.csv', 'btcusd-2013-03-21.csv', 'btcusd-2013-03-22.csv', 'btcusd-2013-03-23.csv', 'btcusd-2013-03-24.csv', 'btcusd-2013-03-25.csv', 'btcusd-2013-03-26.csv', 'btcusd-2013-03-27.csv', 'btcusd-2013-03-28.csv', 'btcusd-2013-03-29.csv', 'btcusd-2013-03-30.csv', 'btcusd-2013-03-31.csv', 'btcusd-2013-04-01.csv', 'btcusd-2013-04-02.csv', 'btcusd-2013-04-03.csv', 'btcusd-2013-04-04.csv', 'btcusd-2013-04-05.csv', 'btcusd-2013-04-06.csv', 'btcusd-2013-04-07.csv', 'btcusd-2013-04-08.csv', 'btcusd-2013-04-09.csv', 'btcusd-2013-04-10.csv', 'btcusd-2013-04-11.csv', 'btcusd-2013-04-12.csv', 'btcusd-2013-04-13.csv', 'btcusd-2013-04-14.csv', 'btcusd-2013-04-15.csv', 'btcusd-2013-04-16.csv', 'btcusd-2013-04-17.csv', 'btcusd-2013-04-18.csv', 'btcusd-2013-04-19.csv', 'btcusd-2013-04-20.csv', 'btcusd-2013-04-21.csv', 'btcusd-2013-04-22.csv', 'btcusd-2013-04-23.csv', 'btcusd-2013-04-24.csv', 'btcusd-2013-04-25.csv', 'btcusd-2013-04-26.csv', 'btcusd-2013-04-27.csv', 'btcusd-2013-04-28.csv', 'btcusd-2013-04-29.csv', 'btcusd-2013-04-30.csv', 'btcusd-2013-05-01.csv', 'btcusd-2013-05-02.csv', 'btcusd-2013-05-03.csv', 'btcusd-2013-05-04.csv', 'btcusd-2013-05-05.csv', 'btcusd-2013-05-06.csv', 'btcusd-2013-05-07.csv', 'btcusd-2013-05-08.csv', 'btcusd-2013-05-09.csv', 'btcusd-2013-05-10.csv', 'btcusd-2013-05-11.csv', 'btcusd-2013-05-12.csv', 'btcusd-2013-05-13.csv', 'btcusd-2013-05-14.csv', 'btcusd-2013-05-15.csv', 'btcusd-2013-05-16.csv', 'btcusd-2013-05-17.csv', 'btcusd-2013-05-18.csv', 'btcusd-2013-05-19.csv', 'btcusd-2013-05-20.csv', 'btcusd-2013-05-21.csv', 'btcusd-2013-05-22.csv', 'btcusd-2013-05-23.csv', 'btcusd-2013-05-24.csv', 'btcusd-2013-05-25.csv', 'btcusd-2013-05-26.csv', 'btcusd-2013-05-27.csv', 'btcusd-2013-05-28.csv', 'btcusd-2013-05-29.csv', 'btcusd-2013-05-30.csv', 'btcusd-2013-05-31.csv', 'btcusd-2013-06-01.csv', 'btcusd-2013-06-02.csv', 'btcusd-2013-06-03.csv', 'btcusd-2013-06-04.csv', 'btcusd-2013-06-05.csv', 'btcusd-2013-06-06.csv', 'btcusd-2013-06-07.csv', 'btcusd-2013-06-08.csv', 'btcusd-2013-06-09.csv', 'btcusd-2013-06-10.csv', 'btcusd-2013-06-11.csv', 'btcusd-2013-06-12.csv', 'btcusd-2013-06-13.csv', 'btcusd-2013-06-14.csv', 'btcusd-2013-06-15.csv', 'btcusd-2013-06-16.csv', 'btcusd-2013-06-17.csv', 'btcusd-2013-06-18.csv', 'btcusd-2013-06-19.csv', 'btcusd-2013-06-20.csv', 'btcusd-2013-06-21.csv', 'btcusd-2013-06-22.csv', 'btcusd-2013-06-23.csv', 'btcusd-2013-06-24.csv', 'btcusd-2013-06-25.csv', 'btcusd-2013-06-26.csv', 'btcusd-2013-06-27.csv', 'btcusd-2013-06-28.csv', 'btcusd-2013-06-29.csv', 'btcusd-2013-06-30.csv', 'btcusd-2013-07-01.csv', 'btcusd-2013-07-02.csv', 'btcusd-2013-07-03.csv', 'btcusd-2013-07-04.csv', 'btcusd-2013-07-05.csv', 'btcusd-2013-07-06.csv', 'btcusd-2013-07-07.csv', 'btcusd-2013-07-08.csv', 'btcusd-2013-07-09.csv', 'btcusd-2013-07-10.csv', 'btcusd-2013-07-11.csv', 'btcusd-2013-07-12.csv', 'btcusd-2013-07-13.csv', 'btcusd-2013-07-14.csv', 'btcusd-2013-07-15.csv', 'btcusd-2013-07-16.csv', 'btcusd-2013-07-17.csv', 'btcusd-2013-07-18.csv', 'btcusd-2013-07-19.csv', 'btcusd-2013-07-20.csv', 'btcusd-2013-07-21.csv', 'btcusd-2013-07-22.csv', 'btcusd-2013-07-23.csv', 'btcusd-2013-07-24.csv', 'btcusd-2013-07-25.csv', 'btcusd-2013-07-26.csv', 'btcusd-2013-07-27.csv', 'btcusd-2013-07-28.csv', 'btcusd-2013-07-29.csv', 'btcusd-2013-07-30.csv', 'btcusd-2013-07-31.csv', 'btcusd-2013-08-01.csv', 'btcusd-2013-08-02.csv', 'btcusd-2013-08-03.csv', 'btcusd-2013-08-04.csv', 'btcusd-2013-08-05.csv', 'btcusd-2013-08-06.csv', 'btcusd-2013-08-07.csv', 'btcusd-2013-08-08.csv', 'btcusd-2013-08-09.csv', 'btcusd-2013-08-10.csv', 'btcusd-2013-08-11.csv', 'btcusd-2013-08-12.csv', 'btcusd-2013-08-13.csv', 'btcusd-2013-08-14.csv', 'btcusd-2013-08-15.csv', 'btcusd-2013-08-16.csv', 'btcusd-2013-08-17.csv', 'btcusd-2013-08-18.csv', 'btcusd-2013-08-19.csv', 'btcusd-2013-08-20.csv', 'btcusd-2013-08-21.csv', 'btcusd-2013-08-22.csv', 'btcusd-2013-08-23.csv', 'btcusd-2013-08-24.csv', 'btcusd-2013-08-25.csv', 'btcusd-2013-08-26.csv', 'btcusd-2013-08-27.csv', 'btcusd-2013-08-28.csv', 'btcusd-2013-08-29.csv', 'btcusd-2013-08-30.csv', 'btcusd-2013-08-31.csv', 'btcusd-2013-09-01.csv', 'btcusd-2013-09-02.csv', 'btcusd-2013-09-03.csv', 'btcusd-2013-09-04.csv', 'btcusd-2013-09-05.csv', 'btcusd-2013-09-06.csv', 'btcusd-2013-09-07.csv', 'btcusd-2013-09-08.csv', 'btcusd-2013-09-09.csv', 'btcusd-2013-09-10.csv', 'btcusd-2013-09-11.csv', 'btcusd-2013-09-12.csv', 'btcusd-2013-09-13.csv', 'btcusd-2013-09-14.csv', 'btcusd-2013-09-15.csv', 'btcusd-2013-09-16.csv', 'btcusd-2013-09-17.csv', 'btcusd-2013-09-18.csv', 'btcusd-2013-09-19.csv', 'btcusd-2013-09-20.csv', 'btcusd-2013-09-21.csv', 'btcusd-2013-09-22.csv', 'btcusd-2013-09-23.csv', 'btcusd-2013-09-24.csv', 'btcusd-2013-09-25.csv', 'btcusd-2013-09-26.csv', 'btcusd-2013-09-27.csv', 'btcusd-2013-09-28.csv', 'btcusd-2013-09-29.csv', 'btcusd-2013-09-30.csv', 'btcusd-2013-10-01.csv', 'btcusd-2013-10-02.csv', 'btcusd-2013-10-03.csv', 'btcusd-2013-10-04.csv', 'btcusd-2013-10-05.csv', 'btcusd-2013-10-06.csv', 'btcusd-2013-10-07.csv', 'btcusd-2013-10-08.csv', 'btcusd-2013-10-09.csv', 'btcusd-2013-10-10.csv', 'btcusd-2013-10-11.csv', 'btcusd-2013-10-12.csv', 'btcusd-2013-10-13.csv', 'btcusd-2013-10-14.csv', 'btcusd-2013-10-15.csv', 'btcusd-2013-10-16.csv', 'btcusd-2013-10-17.csv', 'btcusd-2013-10-18.csv', 'btcusd-2013-10-19.csv', 'btcusd-2013-10-20.csv', 'btcusd-2013-10-21.csv', 'btcusd-2013-10-22.csv', 'btcusd-2013-10-23.csv', 'btcusd-2013-10-24.csv', 'btcusd-2013-10-25.csv', 'btcusd-2013-10-26.csv', 'btcusd-2013-10-27.csv', 'btcusd-2013-10-28.csv', 'btcusd-2013-10-29.csv', 'btcusd-2013-10-30.csv', 'btcusd-2013-10-31.csv', 'btcusd-2013-11-01.csv', 'btcusd-2013-11-02.csv', 'btcusd-2013-11-03.csv', 'btcusd-2013-11-04.csv', 'btcusd-2013-11-05.csv', 'btcusd-2013-11-06.csv', 'btcusd-2013-11-07.csv', 'btcusd-2013-11-08.csv', 'btcusd-2013-11-09.csv', 'btcusd-2013-11-10.csv', 'btcusd-2013-11-11.csv', 'btcusd-2013-11-12.csv', 'btcusd-2013-11-13.csv', 'btcusd-2013-11-14.csv', 'btcusd-2013-11-15.csv', 'btcusd-2013-11-16.csv', 'btcusd-2013-11-17.csv', 'btcusd-2013-11-18.csv', 'btcusd-2013-11-19.csv', 'btcusd-2013-11-20.csv', 'btcusd-2013-11-21.csv', 'btcusd-2013-11-22.csv', 'btcusd-2013-11-23.csv', 'btcusd-2013-11-24.csv', 'btcusd-2013-11-25.csv', 'btcusd-2013-11-26.csv', 'btcusd-2013-11-27.csv', 'btcusd-2013-11-28.csv', 'btcusd-2013-11-29.csv', 'btcusd-2013-11-30.csv', 'btcusd-2013-12-01.csv', 'btcusd-2013-12-02.csv', 'btcusd-2013-12-03.csv', 'btcusd-2013-12-04.csv', 'btcusd-2013-12-05.csv', 'btcusd-2013-12-06.csv', 'btcusd-2013-12-07.csv', 'btcusd-2013-12-08.csv', 'btcusd-2013-12-09.csv', 'btcusd-2013-12-10.csv', 'btcusd-2013-12-11.csv', 'btcusd-2013-12-12.csv', 'btcusd-2013-12-13.csv', 'btcusd-2013-12-14.csv', 'btcusd-2013-12-15.csv', 'btcusd-2013-12-16.csv', 'btcusd-2013-12-17.csv', 'btcusd-2013-12-18.csv', 'btcusd-2013-12-19.csv', 'btcusd-2013-12-20.csv', 'btcusd-2013-12-21.csv', 'btcusd-2013-12-22.csv', 'btcusd-2013-12-23.csv', 'btcusd-2013-12-24.csv', 'btcusd-2013-12-25.csv', 'btcusd-2013-12-26.csv', 'btcusd-2013-12-27.csv', 'btcusd-2013-12-28.csv', 'btcusd-2013-12-29.csv', 'btcusd-2013-12-30.csv', 'btcusd-2013-12-31.csv', 'btcusd-2014-01-01.csv', 'btcusd-2014-01-02.csv', 'btcusd-2014-01-03.csv', 'btcusd-2014-01-04.csv', 'btcusd-2014-01-05.csv', 'btcusd-2014-01-06.csv', 'btcusd-2014-01-07.csv', 'btcusd-2014-01-08.csv', 'btcusd-2014-01-09.csv', 'btcusd-2014-01-10.csv', 'btcusd-2014-01-11.csv', 'btcusd-2014-01-12.csv', 'btcusd-2014-01-13.csv', 'btcusd-2014-01-14.csv', 'btcusd-2014-01-15.csv', 'btcusd-2014-01-16.csv', 'btcusd-2014-01-17.csv', 'btcusd-2014-01-18.csv', 'btcusd-2014-01-19.csv', 'btcusd-2014-01-20.csv', 'btcusd-2014-01-21.csv', 'btcusd-2014-01-22.csv', 'btcusd-2014-01-23.csv', 'btcusd-2014-01-24.csv', 'btcusd-2014-01-25.csv', 'btcusd-2014-01-26.csv', 'btcusd-2014-01-27.csv', 'btcusd-2014-01-28.csv', 'btcusd-2014-01-29.csv', 'btcusd-2014-01-30.csv', 'btcusd-2014-01-31.csv', 'btcusd-2014-02-01.csv', 'btcusd-2014-02-02.csv', 'btcusd-2014-02-03.csv', 'btcusd-2014-02-04.csv', 'btcusd-2014-02-05.csv', 'btcusd-2014-02-06.csv', 'btcusd-2014-02-07.csv', 'btcusd-2014-02-08.csv', 'btcusd-2014-02-09.csv', 'btcusd-2014-02-10.csv', 'btcusd-2014-02-11.csv', 'btcusd-2014-02-12.csv', 'btcusd-2014-02-13.csv', 'btcusd-2014-02-14.csv', 'btcusd-2014-02-15.csv', 'btcusd-2014-02-16.csv', 'btcusd-2014-02-17.csv', 'btcusd-2014-02-18.csv', 'btcusd-2014-02-19.csv', 'btcusd-2014-02-20.csv', 'btcusd-2014-02-21.csv', 'btcusd-2014-02-22.csv', 'btcusd-2014-02-23.csv', 'btcusd-2014-02-24.csv', 'btcusd-2014-02-25.csv', 'btcusd-2014-02-26.csv', 'btcusd-2014-02-27.csv', 'btcusd-2014-02-28.csv', 'btcusd-2014-03-01.csv', 'btcusd-2014-03-02.csv', 'btcusd-2014-03-03.csv', 'btcusd-2014-03-04.csv', 'btcusd-2014-03-05.csv', 'btcusd-2014-03-06.csv', 'btcusd-2014-03-07.csv', 'btcusd-2014-03-08.csv', 'btcusd-2014-03-09.csv', 'btcusd-2014-03-10.csv', 'btcusd-2014-03-11.csv', 'btcusd-2014-03-12.csv', 'btcusd-2014-03-13.csv', 'btcusd-2014-03-14.csv', 'btcusd-2014-03-15.csv', 'btcusd-2014-03-16.csv', 'btcusd-2014-03-17.csv', 'btcusd-2014-03-18.csv', 'btcusd-2014-03-19.csv', 'btcusd-2014-03-20.csv', 'btcusd-2014-03-21.csv', 'btcusd-2014-03-22.csv', 'btcusd-2014-03-23.csv', 'btcusd-2014-03-24.csv', 'btcusd-2014-03-25.csv', 'btcusd-2014-03-26.csv', 'btcusd-2014-03-27.csv', 'btcusd-2014-03-28.csv', 'btcusd-2014-03-29.csv', 'btcusd-2014-03-30.csv', 'btcusd-2014-03-31.csv', 'btcusd-2014-04-01.csv', 'btcusd-2014-04-02.csv', 'btcusd-2014-04-03.csv', 'btcusd-2014-04-04.csv', 'btcusd-2014-04-05.csv', 'btcusd-2014-04-06.csv', 'btcusd-2014-04-07.csv', 'btcusd-2014-04-08.csv', 'btcusd-2014-04-09.csv', 'btcusd-2014-04-10.csv', 'btcusd-2014-04-11.csv', 'btcusd-2014-04-12.csv', 'btcusd-2014-04-13.csv', 'btcusd-2014-04-14.csv', 'btcusd-2014-04-15.csv', 'btcusd-2014-04-16.csv', 'btcusd-2014-04-17.csv', 'btcusd-2014-04-18.csv', 'btcusd-2014-04-19.csv', 'btcusd-2014-04-20.csv', 'btcusd-2014-04-21.csv', 'btcusd-2014-04-22.csv', 'btcusd-2014-04-23.csv', 'btcusd-2014-04-24.csv', 'btcusd-2014-04-25.csv', 'btcusd-2014-04-26.csv', 'btcusd-2014-04-27.csv', 'btcusd-2014-04-28.csv', 'btcusd-2014-04-29.csv', 'btcusd-2014-04-30.csv', 'btcusd-2014-05-01.csv', 'btcusd-2014-05-02.csv', 'btcusd-2014-05-03.csv', 'btcusd-2014-05-04.csv', 'btcusd-2014-05-05.csv', 'btcusd-2014-05-06.csv', 'btcusd-2014-05-07.csv', 'btcusd-2014-05-08.csv', 'btcusd-2014-05-09.csv', 'btcusd-2014-05-10.csv', 'btcusd-2014-05-11.csv', 'btcusd-2014-05-12.csv', 'btcusd-2014-05-13.csv', 'btcusd-2014-05-14.csv', 'btcusd-2014-05-15.csv', 'btcusd-2014-05-16.csv', 'btcusd-2014-05-17.csv', 'btcusd-2014-05-18.csv', 'btcusd-2014-05-19.csv', 'btcusd-2014-05-20.csv', 'btcusd-2014-05-21.csv', 'btcusd-2014-05-22.csv', 'btcusd-2014-05-23.csv', 'btcusd-2014-05-24.csv', 'btcusd-2014-05-25.csv', 'btcusd-2014-05-26.csv', 'btcusd-2014-05-27.csv', 'btcusd-2014-05-28.csv', 'btcusd-2014-05-29.csv', 'btcusd-2014-05-30.csv', 'btcusd-2014-05-31.csv', 'btcusd-2014-06-01.csv', 'btcusd-2014-06-02.csv', 'btcusd-2014-06-03.csv', 'btcusd-2014-06-04.csv', 'btcusd-2014-06-05.csv', 'btcusd-2014-06-06.csv', 'btcusd-2014-06-07.csv', 'btcusd-2014-06-08.csv', 'btcusd-2014-06-09.csv', 'btcusd-2014-06-10.csv', 'btcusd-2014-06-11.csv', 'btcusd-2014-06-12.csv', 'btcusd-2014-06-13.csv', 'btcusd-2014-06-14.csv', 'btcusd-2014-06-15.csv', 'btcusd-2014-06-16.csv', 'btcusd-2014-06-17.csv', 'btcusd-2014-06-18.csv', 'btcusd-2014-06-19.csv', 'btcusd-2014-06-20.csv', 'btcusd-2014-06-21.csv', 'btcusd-2014-06-22.csv', 'btcusd-2014-06-23.csv', 'btcusd-2014-06-24.csv', 'btcusd-2014-06-25.csv', 'btcusd-2014-06-26.csv', 'btcusd-2014-06-27.csv', 'btcusd-2014-06-28.csv', 'btcusd-2014-06-29.csv', 'btcusd-2014-06-30.csv', 'btcusd-2014-07-01.csv', 'btcusd-2014-07-02.csv', 'btcusd-2014-07-03.csv', 'btcusd-2014-07-04.csv', 'btcusd-2014-07-05.csv', 'btcusd-2014-07-06.csv', 'btcusd-2014-07-07.csv', 'btcusd-2014-07-08.csv', 'btcusd-2014-07-09.csv', 'btcusd-2014-07-10.csv', 'btcusd-2014-07-11.csv', 'btcusd-2014-07-12.csv', 'btcusd-2014-07-13.csv', 'btcusd-2014-07-14.csv', 'btcusd-2014-07-15.csv', 'btcusd-2014-07-16.csv', 'btcusd-2014-07-17.csv', 'btcusd-2014-07-18.csv', 'btcusd-2014-07-19.csv', 'btcusd-2014-07-20.csv', 'btcusd-2014-07-21.csv', 'btcusd-2014-07-22.csv', 'btcusd-2014-07-23.csv', 'btcusd-2014-07-24.csv', 'btcusd-2014-07-25.csv', 'btcusd-2014-07-26.csv', 'btcusd-2014-07-27.csv', 'btcusd-2014-07-28.csv', 'btcusd-2014-07-29.csv', 'btcusd-2014-07-30.csv', 'btcusd-2014-07-31.csv', 'btcusd-2014-08-01.csv', 'btcusd-2014-08-02.csv', 'btcusd-2014-08-03.csv', 'btcusd-2014-08-04.csv', 'btcusd-2014-08-05.csv', 'btcusd-2014-08-06.csv', 'btcusd-2014-08-07.csv', 'btcusd-2014-08-08.csv', 'btcusd-2014-08-09.csv', 'btcusd-2014-08-10.csv', 'btcusd-2014-08-11.csv', 'btcusd-2014-08-12.csv', 'btcusd-2014-08-13.csv', 'btcusd-2014-08-14.csv', 'btcusd-2014-08-15.csv', 'btcusd-2014-08-16.csv', 'btcusd-2014-08-17.csv', 'btcusd-2014-08-18.csv', 'btcusd-2014-08-19.csv', 'btcusd-2014-08-20.csv', 'btcusd-2014-08-21.csv', 'btcusd-2014-08-22.csv', 'btcusd-2014-08-23.csv', 'btcusd-2014-08-24.csv', 'btcusd-2014-08-25.csv', 'btcusd-2014-08-26.csv', 'btcusd-2014-08-27.csv', 'btcusd-2014-08-28.csv', 'btcusd-2014-08-29.csv', 'btcusd-2014-08-30.csv', 'btcusd-2014-08-31.csv', 'btcusd-2014-09-01.csv', 'btcusd-2014-09-02.csv', 'btcusd-2014-09-03.csv', 'btcusd-2014-09-04.csv', 'btcusd-2014-09-05.csv', 'btcusd-2014-09-06.csv', 'btcusd-2014-09-07.csv', 'btcusd-2014-09-08.csv', 'btcusd-2014-09-09.csv', 'btcusd-2014-09-10.csv', 'btcusd-2014-09-11.csv', 'btcusd-2014-09-12.csv', 'btcusd-2014-09-13.csv', 'btcusd-2014-09-14.csv', 'btcusd-2014-09-15.csv', 'btcusd-2014-09-16.csv', 'btcusd-2014-09-17.csv', 'btcusd-2014-09-18.csv', 'btcusd-2014-09-19.csv', 'btcusd-2014-09-20.csv', 'btcusd-2014-09-21.csv', 'btcusd-2014-09-22.csv', 'btcusd-2014-09-23.csv', 'btcusd-2014-09-24.csv', 'btcusd-2014-09-25.csv', 'btcusd-2014-09-26.csv', 'btcusd-2014-09-27.csv', 'btcusd-2014-09-28.csv', 'btcusd-2014-09-29.csv', 'btcusd-2014-09-30.csv', 'btcusd-2014-10-01.csv', 'btcusd-2014-10-02.csv', 'btcusd-2014-10-03.csv', 'btcusd-2014-10-04.csv', 'btcusd-2014-10-05.csv', 'btcusd-2014-10-06.csv', 'btcusd-2014-10-07.csv', 'btcusd-2014-10-08.csv', 'btcusd-2014-10-09.csv', 'btcusd-2014-10-10.csv', 'btcusd-2014-10-11.csv', 'btcusd-2014-10-12.csv', 'btcusd-2014-10-13.csv', 'btcusd-2014-10-14.csv', 'btcusd-2014-10-15.csv', 'btcusd-2014-10-16.csv', 'btcusd-2014-10-17.csv', 'btcusd-2014-10-18.csv', 'btcusd-2014-10-19.csv', 'btcusd-2014-10-20.csv', 'btcusd-2014-10-21.csv', 'btcusd-2014-10-22.csv', 'btcusd-2014-10-23.csv', 'btcusd-2014-10-24.csv', 'btcusd-2014-10-25.csv', 'btcusd-2014-10-26.csv', 'btcusd-2014-10-27.csv', 'btcusd-2014-10-28.csv', 'btcusd-2014-10-29.csv', 'btcusd-2014-10-30.csv', 'btcusd-2014-10-31.csv', 'btcusd-2014-11-01.csv', 'btcusd-2014-11-02.csv', 'btcusd-2014-11-03.csv', 'btcusd-2014-11-04.csv', 'btcusd-2014-11-05.csv', 'btcusd-2014-11-06.csv', 'btcusd-2014-11-07.csv', 'btcusd-2014-11-08.csv', 'btcusd-2014-11-09.csv', 'btcusd-2014-11-10.csv', 'btcusd-2014-11-11.csv', 'btcusd-2014-11-12.csv', 'btcusd-2014-11-13.csv', 'btcusd-2014-11-14.csv', 'btcusd-2014-11-15.csv', 'btcusd-2014-11-16.csv', 'btcusd-2014-11-17.csv', 'btcusd-2014-11-18.csv', 'btcusd-2014-11-19.csv', 'btcusd-2014-11-20.csv', 'btcusd-2014-11-21.csv', 'btcusd-2014-11-22.csv', 'btcusd-2014-11-23.csv', 'btcusd-2014-11-24.csv', 'btcusd-2014-11-25.csv', 'btcusd-2014-11-26.csv', 'btcusd-2014-11-27.csv', 'btcusd-2014-11-28.csv', 'btcusd-2014-11-29.csv', 'btcusd-2014-11-30.csv', 'btcusd-2014-12-01.csv', 'btcusd-2014-12-02.csv', 'btcusd-2014-12-03.csv', 'btcusd-2014-12-04.csv', 'btcusd-2014-12-05.csv', 'btcusd-2014-12-06.csv', 'btcusd-2014-12-07.csv', 'btcusd-2014-12-08.csv', 'btcusd-2014-12-09.csv', 'btcusd-2014-12-10.csv', 'btcusd-2014-12-11.csv', 'btcusd-2014-12-12.csv', 'btcusd-2014-12-13.csv', 'btcusd-2014-12-14.csv', 'btcusd-2014-12-15.csv', 'btcusd-2014-12-16.csv', 'btcusd-2014-12-17.csv', 'btcusd-2014-12-18.csv', 'btcusd-2014-12-19.csv', 'btcusd-2014-12-20.csv', 'btcusd-2014-12-21.csv', 'btcusd-2014-12-22.csv', 'btcusd-2014-12-23.csv', 'btcusd-2014-12-24.csv', 'btcusd-2014-12-25.csv', 'btcusd-2014-12-26.csv', 'btcusd-2014-12-27.csv', 'btcusd-2014-12-28.csv', 'btcusd-2014-12-29.csv', 'btcusd-2014-12-30.csv', 'btcusd-2014-12-31.csv', 'btcusd-2015-01-01.csv', 'btcusd-2015-01-02.csv', 'btcusd-2015-01-03.csv', 'btcusd-2015-01-04.csv', 'btcusd-2015-01-05.csv', 'btcusd-2015-01-09.csv', 'btcusd-2015-01-10.csv', 'btcusd-2015-01-11.csv', 'btcusd-2015-01-12.csv', 'btcusd-2015-01-13.csv', 'btcusd-2015-01-14.csv', 'btcusd-2015-01-15.csv', 'btcusd-2015-01-16.csv', 'btcusd-2015-01-17.csv', 'btcusd-2015-01-18.csv', 'btcusd-2015-01-19.csv', 'btcusd-2015-01-20.csv', 'btcusd-2015-01-21.csv', 'btcusd-2015-01-22.csv', 'btcusd-2015-01-23.csv', 'btcusd-2015-01-24.csv', 'btcusd-2015-01-25.csv', 'btcusd-2015-01-26.csv', 'btcusd-2015-01-27.csv', 'btcusd-2015-01-28.csv', 'btcusd-2015-01-29.csv', 'btcusd-2015-01-30.csv', 'btcusd-2015-01-31.csv', 'btcusd-2015-02-01.csv', 'btcusd-2015-02-02.csv', 'btcusd-2015-02-03.csv', 'btcusd-2015-02-04.csv', 'btcusd-2015-02-05.csv', 'btcusd-2015-02-06.csv', 'btcusd-2015-02-07.csv', 'btcusd-2015-02-08.csv', 'btcusd-2015-02-09.csv', 'btcusd-2015-02-10.csv', 'btcusd-2015-02-11.csv', 'btcusd-2015-02-12.csv', 'btcusd-2015-02-13.csv', 'btcusd-2015-02-14.csv', 'btcusd-2015-02-15.csv', 'btcusd-2015-02-16.csv', 'btcusd-2015-02-17.csv', 'btcusd-2015-02-18.csv', 'btcusd-2015-02-19.csv', 'btcusd-2015-02-20.csv', 'btcusd-2015-02-21.csv', 'btcusd-2015-02-22.csv', 'btcusd-2015-02-23.csv', 'btcusd-2015-02-24.csv', 'btcusd-2015-02-25.csv', 'btcusd-2015-02-26.csv', 'btcusd-2015-02-27.csv', 'btcusd-2015-02-28.csv', 'btcusd-2015-03-01.csv', 'btcusd-2015-03-02.csv', 'btcusd-2015-03-03.csv', 'btcusd-2015-03-04.csv', 'btcusd-2015-03-05.csv', 'btcusd-2015-03-06.csv', 'btcusd-2015-03-07.csv', 'btcusd-2015-03-08.csv', 'btcusd-2015-03-09.csv', 'btcusd-2015-03-10.csv', 'btcusd-2015-03-11.csv', 'btcusd-2015-03-12.csv', 'btcusd-2015-03-13.csv', 'btcusd-2015-03-14.csv', 'btcusd-2015-03-15.csv', 'btcusd-2015-03-16.csv', 'btcusd-2015-03-17.csv', 'btcusd-2015-03-18.csv', 'btcusd-2015-03-19.csv', 'btcusd-2015-03-20.csv', 'btcusd-2015-03-21.csv', 'btcusd-2015-03-22.csv', 'btcusd-2015-03-23.csv', 'btcusd-2015-03-24.csv', 'btcusd-2015-03-25.csv', 'btcusd-2015-03-26.csv', 'btcusd-2015-03-27.csv', 'btcusd-2015-03-28.csv', 'btcusd-2015-03-29.csv', 'btcusd-2015-03-30.csv', 'btcusd-2015-03-31.csv', 'btcusd-2015-04-01.csv', 'btcusd-2015-04-02.csv', 'btcusd-2015-04-03.csv', 'btcusd-2015-04-04.csv', 'btcusd-2015-04-05.csv', 'btcusd-2015-04-06.csv', 'btcusd-2015-04-07.csv', 'btcusd-2015-04-08.csv', 'btcusd-2015-04-09.csv', 'btcusd-2015-04-10.csv', 'btcusd-2015-04-11.csv', 'btcusd-2015-04-12.csv', 'btcusd-2015-04-13.csv', 'btcusd-2015-04-14.csv', 'btcusd-2015-04-15.csv', 'btcusd-2015-04-16.csv', 'btcusd-2015-04-17.csv', 'btcusd-2015-04-18.csv', 'btcusd-2015-04-19.csv', 'btcusd-2015-04-20.csv', 'btcusd-2015-04-21.csv', 'btcusd-2015-04-22.csv', 'btcusd-2015-04-23.csv', 'btcusd-2015-04-24.csv', 'btcusd-2015-04-25.csv', 'btcusd-2015-04-26.csv', 'btcusd-2015-04-27.csv', 'btcusd-2015-04-28.csv', 'btcusd-2015-04-29.csv', 'btcusd-2015-04-30.csv', 'btcusd-2015-05-01.csv', 'btcusd-2015-05-02.csv', 'btcusd-2015-05-03.csv', 'btcusd-2015-05-04.csv', 'btcusd-2015-05-05.csv', 'btcusd-2015-05-06.csv', 'btcusd-2015-05-07.csv', 'btcusd-2015-05-08.csv', 'btcusd-2015-05-09.csv', 'btcusd-2015-05-10.csv', 'btcusd-2015-05-11.csv', 'btcusd-2015-05-12.csv', 'btcusd-2015-05-13.csv', 'btcusd-2015-05-14.csv', 'btcusd-2015-05-15.csv', 'btcusd-2015-05-16.csv', 'btcusd-2015-05-17.csv', 'btcusd-2015-05-18.csv', 'btcusd-2015-05-19.csv', 'btcusd-2015-05-20.csv', 'btcusd-2015-05-21.csv', 'btcusd-2015-05-22.csv', 'btcusd-2015-05-23.csv', 'btcusd-2015-05-24.csv', 'btcusd-2015-05-25.csv', 'btcusd-2015-05-26.csv', 'btcusd-2015-05-27.csv', 'btcusd-2015-05-28.csv', 'btcusd-2015-05-29.csv', 'btcusd-2015-05-30.csv', 'btcusd-2015-05-31.csv', 'btcusd-2015-06-01.csv', 'btcusd-2015-06-02.csv', 'btcusd-2015-06-03.csv', 'btcusd-2015-06-04.csv', 'btcusd-2015-06-05.csv', 'btcusd-2015-06-06.csv', 'btcusd-2015-06-07.csv', 'btcusd-2015-06-08.csv', 'btcusd-2015-06-09.csv', 'btcusd-2015-06-10.csv', 'btcusd-2015-06-11.csv', 'btcusd-2015-06-12.csv', 'btcusd-2015-06-13.csv', 'btcusd-2015-06-14.csv', 'btcusd-2015-06-15.csv', 'btcusd-2015-06-16.csv', 'btcusd-2015-06-17.csv', 'btcusd-2015-06-18.csv', 'btcusd-2015-06-19.csv', 'btcusd-2015-06-20.csv', 'btcusd-2015-06-21.csv', 'btcusd-2015-06-22.csv', 'btcusd-2015-06-23.csv', 'btcusd-2015-06-24.csv', 'btcusd-2015-06-25.csv', 'btcusd-2015-06-26.csv', 'btcusd-2015-06-27.csv', 'btcusd-2015-06-28.csv', 'btcusd-2015-06-29.csv', 'btcusd-2015-06-30.csv', 'btcusd-2015-07-01.csv', 'btcusd-2015-07-02.csv', 'btcusd-2015-07-03.csv', 'btcusd-2015-07-04.csv', 'btcusd-2015-07-05.csv', 'btcusd-2015-07-06.csv', 'btcusd-2015-07-07.csv', 'btcusd-2015-07-08.csv', 'btcusd-2015-07-09.csv', 'btcusd-2015-07-10.csv', 'btcusd-2015-07-11.csv', 'btcusd-2015-07-12.csv', 'btcusd-2015-07-13.csv', 'btcusd-2015-07-14.csv', 'btcusd-2015-07-15.csv', 'btcusd-2015-07-16.csv', 'btcusd-2015-07-17.csv', 'btcusd-2015-07-18.csv', 'btcusd-2015-07-19.csv', 'btcusd-2015-07-20.csv', 'btcusd-2015-07-21.csv', 'btcusd-2015-07-22.csv', 'btcusd-2015-07-23.csv', 'btcusd-2015-07-24.csv', 'btcusd-2015-07-25.csv', 'btcusd-2015-07-26.csv', 'btcusd-2015-07-27.csv', 'btcusd-2015-07-28.csv', 'btcusd-2015-07-29.csv', 'btcusd-2015-07-30.csv', 'btcusd-2015-07-31.csv', 'btcusd-2015-08-01.csv', 'btcusd-2015-08-02.csv', 'btcusd-2015-08-03.csv', 'btcusd-2015-08-04.csv', 'btcusd-2015-08-05.csv', 'btcusd-2015-08-06.csv', 'btcusd-2015-08-07.csv', 'btcusd-2015-08-08.csv', 'btcusd-2015-08-09.csv', 'btcusd-2015-08-10.csv', 'btcusd-2015-08-11.csv', 'btcusd-2015-08-12.csv', 'btcusd-2015-08-13.csv', 'btcusd-2015-08-14.csv', 'btcusd-2015-08-15.csv', 'btcusd-2015-08-16.csv', 'btcusd-2015-08-17.csv', 'btcusd-2015-08-18.csv', 'btcusd-2015-08-19.csv', 'btcusd-2015-08-20.csv', 'btcusd-2015-08-21.csv', 'btcusd-2015-08-22.csv', 'btcusd-2015-08-23.csv', 'btcusd-2015-08-24.csv', 'btcusd-2015-08-25.csv', 'btcusd-2015-08-26.csv', 'btcusd-2015-08-27.csv', 'btcusd-2015-08-28.csv', 'btcusd-2015-08-29.csv', 'btcusd-2015-08-30.csv', 'btcusd-2015-08-31.csv', 'btcusd-2015-09-01.csv', 'btcusd-2015-09-02.csv', 'btcusd-2015-09-03.csv', 'btcusd-2015-09-04.csv', 'btcusd-2015-09-05.csv', 'btcusd-2015-09-06.csv', 'btcusd-2015-09-07.csv', 'btcusd-2015-09-08.csv', 'btcusd-2015-09-09.csv', 'btcusd-2015-09-10.csv', 'btcusd-2015-09-11.csv', 'btcusd-2015-09-12.csv', 'btcusd-2015-09-13.csv', 'btcusd-2015-09-14.csv', 'btcusd-2015-09-15.csv', 'btcusd-2015-09-16.csv', 'btcusd-2015-09-17.csv', 'btcusd-2015-09-18.csv', 'btcusd-2015-09-19.csv', 'btcusd-2015-09-20.csv', 'btcusd-2015-09-21.csv', 'btcusd-2015-09-22.csv', 'btcusd-2015-09-23.csv', 'btcusd-2015-09-24.csv', 'btcusd-2015-09-25.csv', 'btcusd-2015-09-26.csv', 'btcusd-2015-09-27.csv', 'btcusd-2015-09-28.csv', 'btcusd-2015-09-29.csv', 'btcusd-2015-09-30.csv', 'btcusd-2015-10-01.csv', 'btcusd-2015-10-02.csv', 'btcusd-2015-10-03.csv', 'btcusd-2015-10-04.csv', 'btcusd-2015-10-05.csv', 'btcusd-2015-10-06.csv', 'btcusd-2015-10-07.csv', 'btcusd-2015-10-08.csv', 'btcusd-2015-10-09.csv', 'btcusd-2015-10-10.csv', 'btcusd-2015-10-11.csv', 'btcusd-2015-10-12.csv', 'btcusd-2015-10-13.csv', 'btcusd-2015-10-14.csv', 'btcusd-2015-10-15.csv', 'btcusd-2015-10-16.csv', 'btcusd-2015-10-17.csv', 'btcusd-2015-10-18.csv', 'btcusd-2015-10-19.csv', 'btcusd-2015-10-20.csv', 'btcusd-2015-10-21.csv', 'btcusd-2015-10-22.csv', 'btcusd-2015-10-23.csv', 'btcusd-2015-10-24.csv', 'btcusd-2015-10-25.csv', 'btcusd-2015-10-26.csv', 'btcusd-2015-10-27.csv', 'btcusd-2015-10-28.csv', 'btcusd-2015-10-29.csv', 'btcusd-2015-10-30.csv', 'btcusd-2015-10-31.csv', 'btcusd-2015-11-01.csv', 'btcusd-2015-11-02.csv', 'btcusd-2015-11-03.csv', 'btcusd-2015-11-04.csv', 'btcusd-2015-11-05.csv', 'btcusd-2015-11-06.csv', 'btcusd-2015-11-07.csv', 'btcusd-2015-11-08.csv', 'btcusd-2015-11-09.csv', 'btcusd-2015-11-10.csv', 'btcusd-2015-11-11.csv', 'btcusd-2015-11-12.csv', 'btcusd-2015-11-13.csv', 'btcusd-2015-11-14.csv', 'btcusd-2015-11-15.csv', 'btcusd-2015-11-16.csv', 'btcusd-2015-11-17.csv', 'btcusd-2015-11-18.csv', 'btcusd-2015-11-19.csv', 'btcusd-2015-11-20.csv', 'btcusd-2015-11-21.csv', 'btcusd-2015-11-22.csv', 'btcusd-2015-11-23.csv', 'btcusd-2015-11-24.csv', 'btcusd-2015-11-25.csv', 'btcusd-2015-11-26.csv', 'btcusd-2015-11-27.csv', 'btcusd-2015-11-28.csv', 'btcusd-2015-11-29.csv', 'btcusd-2015-11-30.csv', 'btcusd-2015-12-01.csv', 'btcusd-2015-12-02.csv', 'btcusd-2015-12-03.csv', 'btcusd-2015-12-04.csv', 'btcusd-2015-12-05.csv', 'btcusd-2015-12-06.csv', 'btcusd-2015-12-07.csv', 'btcusd-2015-12-08.csv', 'btcusd-2015-12-09.csv', 'btcusd-2015-12-10.csv', 'btcusd-2015-12-11.csv', 'btcusd-2015-12-12.csv', 'btcusd-2015-12-13.csv', 'btcusd-2015-12-14.csv', 'btcusd-2015-12-15.csv', 'btcusd-2015-12-16.csv', 'btcusd-2015-12-17.csv', 'btcusd-2015-12-18.csv', 'btcusd-2015-12-19.csv', 'btcusd-2015-12-20.csv', 'btcusd-2015-12-21.csv', 'btcusd-2015-12-22.csv', 'btcusd-2015-12-23.csv', 'btcusd-2015-12-24.csv', 'btcusd-2015-12-25.csv', 'btcusd-2015-12-26.csv', 'btcusd-2015-12-27.csv', 'btcusd-2015-12-28.csv', 'btcusd-2015-12-29.csv', 'btcusd-2015-12-30.csv', 'btcusd-2015-12-31.csv', 'btcusd-2016-01-01.csv', 'btcusd-2016-01-02.csv', 'btcusd-2016-01-03.csv', 'btcusd-2016-01-04.csv', 'btcusd-2016-01-05.csv', 'btcusd-2016-01-06.csv', 'btcusd-2016-01-07.csv', 'btcusd-2016-01-08.csv', 'btcusd-2016-01-09.csv', 'btcusd-2016-01-10.csv', 'btcusd-2016-01-11.csv', 'btcusd-2016-01-12.csv', 'btcusd-2016-01-13.csv', 'btcusd-2016-01-14.csv', 'btcusd-2016-01-15.csv', 'btcusd-2016-01-16.csv', 'btcusd-2016-01-17.csv', 'btcusd-2016-01-18.csv', 'btcusd-2016-01-19.csv', 'btcusd-2016-01-20.csv', 'btcusd-2016-01-21.csv', 'btcusd-2016-01-22.csv', 'btcusd-2016-01-23.csv', 'btcusd-2016-01-24.csv', 'btcusd-2016-01-25.csv', 'btcusd-2016-01-26.csv', 'btcusd-2016-01-27.csv', 'btcusd-2016-01-28.csv', 'btcusd-2016-01-29.csv', 'btcusd-2016-01-30.csv', 'btcusd-2016-01-31.csv', 'btcusd-2016-02-01.csv', 'btcusd-2016-02-02.csv', 'btcusd-2016-02-03.csv', 'btcusd-2016-02-04.csv', 'btcusd-2016-02-05.csv', 'btcusd-2016-02-06.csv', 'btcusd-2016-02-07.csv', 'btcusd-2016-02-08.csv', 'btcusd-2016-02-09.csv', 'btcusd-2016-02-10.csv', 'btcusd-2016-02-11.csv', 'btcusd-2016-02-12.csv', 'btcusd-2016-02-13.csv', 'btcusd-2016-02-14.csv', 'btcusd-2016-02-15.csv', 'btcusd-2016-02-16.csv', 'btcusd-2016-02-17.csv', 'btcusd-2016-02-18.csv', 'btcusd-2016-02-19.csv', 'btcusd-2016-02-20.csv', 'btcusd-2016-02-21.csv', 'btcusd-2016-02-22.csv', 'btcusd-2016-02-23.csv', 'btcusd-2016-02-24.csv', 'btcusd-2016-02-25.csv', 'btcusd-2016-02-26.csv', 'btcusd-2016-02-27.csv', 'btcusd-2016-02-28.csv', 'btcusd-2016-02-29.csv', 'btcusd-2016-03-01.csv', 'btcusd-2016-03-02.csv', 'btcusd-2016-03-03.csv', 'btcusd-2016-03-04.csv', 'btcusd-2016-03-05.csv', 'btcusd-2016-03-06.csv', 'btcusd-2016-03-07.csv', 'btcusd-2016-03-08.csv', 'btcusd-2016-03-09.csv', 'btcusd-2016-03-10.csv', 'btcusd-2016-03-11.csv', 'btcusd-2016-03-12.csv', 'btcusd-2016-03-13.csv', 'btcusd-2016-03-14.csv', 'btcusd-2016-03-15.csv', 'btcusd-2016-03-16.csv', 'btcusd-2016-03-17.csv', 'btcusd-2016-03-18.csv', 'btcusd-2016-03-19.csv', 'btcusd-2016-03-20.csv', 'btcusd-2016-03-21.csv', 'btcusd-2016-03-22.csv', 'btcusd-2016-03-23.csv', 'btcusd-2016-03-24.csv', 'btcusd-2016-03-25.csv', 'btcusd-2016-03-26.csv', 'btcusd-2016-03-27.csv', 'btcusd-2016-03-28.csv', 'btcusd-2016-03-29.csv', 'btcusd-2016-03-30.csv', 'btcusd-2016-03-31.csv', 'btcusd-2016-04-01.csv', 'btcusd-2016-04-02.csv', 'btcusd-2016-04-03.csv', 'btcusd-2016-04-04.csv', 'btcusd-2016-04-05.csv', 'btcusd-2016-04-06.csv', 'btcusd-2016-04-07.csv', 'btcusd-2016-04-08.csv', 'btcusd-2016-04-09.csv', 'btcusd-2016-04-10.csv', 'btcusd-2016-04-11.csv', 'btcusd-2016-04-12.csv', 'btcusd-2016-04-13.csv', 'btcusd-2016-04-14.csv', 'btcusd-2016-04-15.csv', 'btcusd-2016-04-16.csv', 'btcusd-2016-04-17.csv', 'btcusd-2016-04-18.csv', 'btcusd-2016-04-19.csv', 'btcusd-2016-04-20.csv', 'btcusd-2016-04-21.csv', 'btcusd-2016-04-22.csv', 'btcusd-2016-04-23.csv', 'btcusd-2016-04-24.csv', 'btcusd-2016-04-25.csv', 'btcusd-2016-04-26.csv', 'btcusd-2016-04-27.csv', 'btcusd-2016-04-28.csv', 'btcusd-2016-04-29.csv', 'btcusd-2016-04-30.csv', 'btcusd-2016-05-01.csv', 'btcusd-2016-05-02.csv', 'btcusd-2016-05-03.csv', 'btcusd-2016-05-04.csv', 'btcusd-2016-05-05.csv', 'btcusd-2016-05-06.csv', 'btcusd-2016-05-07.csv', 'btcusd-2016-05-08.csv', 'btcusd-2016-05-09.csv', 'btcusd-2016-05-10.csv', 'btcusd-2016-05-11.csv', 'btcusd-2016-05-12.csv', 'btcusd-2016-05-13.csv', 'btcusd-2016-05-14.csv', 'btcusd-2016-05-15.csv', 'btcusd-2016-05-16.csv', 'btcusd-2016-05-17.csv', 'btcusd-2016-05-18.csv', 'btcusd-2016-05-19.csv', 'btcusd-2016-05-20.csv', 'btcusd-2016-05-21.csv', 'btcusd-2016-05-22.csv', 'btcusd-2016-05-23.csv', 'btcusd-2016-05-24.csv', 'btcusd-2016-05-25.csv', 'btcusd-2016-05-26.csv', 'btcusd-2016-05-27.csv', 'btcusd-2016-05-28.csv', 'btcusd-2016-05-29.csv', 'btcusd-2016-05-30.csv', 'btcusd-2016-05-31.csv', 'btcusd-2016-06-01.csv', 'btcusd-2016-06-02.csv', 'btcusd-2016-06-03.csv', 'btcusd-2016-06-04.csv', 'btcusd-2016-06-05.csv', 'btcusd-2016-06-06.csv', 'btcusd-2016-06-07.csv', 'btcusd-2016-06-08.csv', 'btcusd-2016-06-09.csv', 'btcusd-2016-06-10.csv', 'btcusd-2016-06-11.csv', 'btcusd-2016-06-12.csv', 'btcusd-2016-06-13.csv', 'btcusd-2016-06-14.csv', 'btcusd-2016-06-15.csv', 'btcusd-2016-06-16.csv', 'btcusd-2016-06-17.csv', 'btcusd-2016-06-18.csv', 'btcusd-2016-06-19.csv', 'btcusd-2016-06-20.csv', 'btcusd-2016-06-21.csv', 'btcusd-2016-06-22.csv', 'btcusd-2016-06-23.csv', 'btcusd-2016-06-24.csv', 'btcusd-2016-06-25.csv', 'btcusd-2016-06-26.csv', 'btcusd-2016-06-27.csv', 'btcusd-2016-06-28.csv', 'btcusd-2016-06-29.csv', 'btcusd-2016-06-30.csv', 'btcusd-2016-07-01.csv', 'btcusd-2016-07-02.csv', 'btcusd-2016-07-03.csv', 'btcusd-2016-07-04.csv', 'btcusd-2016-07-05.csv', 'btcusd-2016-07-06.csv', 'btcusd-2016-07-07.csv', 'btcusd-2016-07-08.csv', 'btcusd-2016-07-09.csv', 'btcusd-2016-07-10.csv', 'btcusd-2016-07-11.csv', 'btcusd-2016-07-12.csv', 'btcusd-2016-07-13.csv', 'btcusd-2016-07-14.csv', 'btcusd-2016-07-15.csv', 'btcusd-2016-07-16.csv', 'btcusd-2016-07-17.csv', 'btcusd-2016-07-18.csv', 'btcusd-2016-07-19.csv', 'btcusd-2016-07-20.csv', 'btcusd-2016-07-21.csv', 'btcusd-2016-07-22.csv', 'btcusd-2016-07-23.csv', 'btcusd-2016-07-24.csv', 'btcusd-2016-07-25.csv', 'btcusd-2016-07-26.csv', 'btcusd-2016-07-27.csv', 'btcusd-2016-07-28.csv', 'btcusd-2016-07-29.csv', 'btcusd-2016-07-30.csv', 'btcusd-2016-07-31.csv', 'btcusd-2016-08-01.csv', 'btcusd-2016-08-02.csv', 'btcusd-2016-08-03.csv', 'btcusd-2016-08-04.csv', 'btcusd-2016-08-05.csv', 'btcusd-2016-08-06.csv', 'btcusd-2016-08-07.csv', 'btcusd-2016-08-08.csv', 'btcusd-2016-08-09.csv', 'btcusd-2016-08-10.csv', 'btcusd-2016-08-11.csv', 'btcusd-2016-08-12.csv', 'btcusd-2016-08-13.csv', 'btcusd-2016-08-14.csv', 'btcusd-2016-08-15.csv', 'btcusd-2016-08-16.csv', 'btcusd-2016-08-17.csv', 'btcusd-2016-08-18.csv', 'btcusd-2016-08-19.csv', 'btcusd-2016-08-20.csv', 'btcusd-2016-08-21.csv', 'btcusd-2016-08-22.csv', 'btcusd-2016-08-23.csv', 'btcusd-2016-08-24.csv', 'btcusd-2016-08-25.csv', 'btcusd-2016-08-26.csv', 'btcusd-2016-08-27.csv', 'btcusd-2016-08-28.csv', 'btcusd-2016-08-29.csv', 'btcusd-2016-08-30.csv', 'btcusd-2016-08-31.csv', 'btcusd-2016-09-01.csv', 'btcusd-2016-09-02.csv', 'btcusd-2016-09-03.csv', 'btcusd-2016-09-04.csv', 'btcusd-2016-09-05.csv', 'btcusd-2016-09-06.csv', 'btcusd-2016-09-07.csv', 'btcusd-2016-09-08.csv', 'btcusd-2016-09-09.csv', 'btcusd-2016-09-10.csv', 'btcusd-2016-09-11.csv', 'btcusd-2016-09-12.csv', 'btcusd-2016-09-13.csv', 'btcusd-2016-09-14.csv', 'btcusd-2016-09-15.csv', 'btcusd-2016-09-16.csv', 'btcusd-2016-09-17.csv', 'btcusd-2016-09-18.csv', 'btcusd-2016-09-19.csv', 'btcusd-2016-09-20.csv', 'btcusd-2016-09-21.csv', 'btcusd-2016-09-22.csv', 'btcusd-2016-09-23.csv', 'btcusd-2016-09-24.csv', 'btcusd-2016-09-25.csv', 'btcusd-2016-09-26.csv', 'btcusd-2016-09-27.csv', 'btcusd-2016-09-28.csv', 'btcusd-2016-09-29.csv', 'btcusd-2016-09-30.csv', 'btcusd-2016-10-01.csv', 'btcusd-2016-10-02.csv', 'btcusd-2016-10-03.csv', 'btcusd-2016-10-04.csv', 'btcusd-2016-10-05.csv', 'btcusd-2016-10-06.csv', 'btcusd-2016-10-07.csv', 'btcusd-2016-10-08.csv', 'btcusd-2016-10-09.csv', 'btcusd-2016-10-10.csv', 'btcusd-2016-10-11.csv', 'btcusd-2016-10-12.csv', 'btcusd-2016-10-13.csv', 'btcusd-2016-10-14.csv', 'btcusd-2016-10-15.csv', 'btcusd-2016-10-16.csv', 'btcusd-2016-10-17.csv', 'btcusd-2016-10-18.csv', 'btcusd-2016-10-19.csv', 'btcusd-2016-10-20.csv', 'btcusd-2016-10-21.csv', 'btcusd-2016-10-22.csv', 'btcusd-2016-10-23.csv', 'btcusd-2016-10-24.csv', 'btcusd-2016-10-25.csv', 'btcusd-2016-10-26.csv', 'btcusd-2016-10-27.csv', 'btcusd-2016-10-28.csv', 'btcusd-2016-10-29.csv', 'btcusd-2016-10-30.csv', 'btcusd-2016-10-31.csv', 'btcusd-2016-11-01.csv', 'btcusd-2016-11-02.csv', 'btcusd-2016-11-03.csv', 'btcusd-2016-11-04.csv', 'btcusd-2016-11-05.csv', 'btcusd-2016-11-06.csv', 'btcusd-2016-11-07.csv', 'btcusd-2016-11-08.csv', 'btcusd-2016-11-09.csv', 'btcusd-2016-11-10.csv', 'btcusd-2016-11-11.csv', 'btcusd-2016-11-12.csv', 'btcusd-2016-11-13.csv', 'btcusd-2016-11-14.csv', 'btcusd-2016-11-15.csv', 'btcusd-2016-11-16.csv', 'btcusd-2016-11-17.csv', 'btcusd-2016-11-18.csv', 'btcusd-2016-11-19.csv', 'btcusd-2016-11-20.csv', 'btcusd-2016-11-21.csv', 'btcusd-2016-11-22.csv', 'btcusd-2016-11-23.csv', 'btcusd-2016-11-24.csv', 'btcusd-2016-11-25.csv', 'btcusd-2016-11-26.csv', 'btcusd-2016-11-27.csv', 'btcusd-2016-11-28.csv', 'btcusd-2016-11-29.csv', 'btcusd-2016-11-30.csv', 'btcusd-2016-12-01.csv', 'btcusd-2016-12-02.csv', 'btcusd-2016-12-03.csv', 'btcusd-2016-12-04.csv', 'btcusd-2016-12-05.csv', 'btcusd-2016-12-06.csv', 'btcusd-2016-12-07.csv', 'btcusd-2016-12-08.csv', 'btcusd-2016-12-09.csv', 'btcusd-2016-12-10.csv', 'btcusd-2016-12-11.csv', 'btcusd-2016-12-12.csv', 'btcusd-2016-12-13.csv', 'btcusd-2016-12-14.csv', 'btcusd-2016-12-15.csv', 'btcusd-2016-12-16.csv', 'btcusd-2016-12-17.csv', 'btcusd-2016-12-18.csv', 'btcusd-2016-12-19.csv', 'btcusd-2016-12-20.csv', 'btcusd-2016-12-21.csv', 'btcusd-2016-12-22.csv', 'btcusd-2016-12-23.csv', 'btcusd-2016-12-24.csv', 'btcusd-2016-12-25.csv', 'btcusd-2016-12-26.csv', 'btcusd-2016-12-27.csv', 'btcusd-2016-12-28.csv', 'btcusd-2016-12-29.csv', 'btcusd-2016-12-30.csv', 'btcusd-2016-12-31.csv', 'btcusd-2017-01-01.csv', 'btcusd-2017-01-02.csv', 'btcusd-2017-01-03.csv', 'btcusd-2017-01-04.csv', 'btcusd-2017-01-05.csv', 'btcusd-2017-01-06.csv', 'btcusd-2017-01-07.csv', 'btcusd-2017-01-08.csv', 'btcusd-2017-01-09.csv', 'btcusd-2017-01-10.csv', 'btcusd-2017-01-11.csv', 'btcusd-2017-01-12.csv', 'btcusd-2017-01-13.csv', 'btcusd-2017-01-14.csv', 'btcusd-2017-01-15.csv', 'btcusd-2017-01-16.csv', 'btcusd-2017-01-17.csv', 'btcusd-2017-01-18.csv', 'btcusd-2017-01-19.csv', 'btcusd-2017-01-20.csv', 'btcusd-2017-01-21.csv', 'btcusd-2017-01-22.csv', 'btcusd-2017-01-23.csv', 'btcusd-2017-01-24.csv', 'btcusd-2017-01-25.csv', 'btcusd-2017-01-26.csv', 'btcusd-2017-01-27.csv', 'btcusd-2017-01-28.csv', 'btcusd-2017-01-29.csv', 'btcusd-2017-01-30.csv', 'btcusd-2017-01-31.csv', 'btcusd-2017-02-01.csv', 'btcusd-2017-02-02.csv', 'btcusd-2017-02-03.csv', 'btcusd-2017-02-04.csv', 'btcusd-2017-02-05.csv', 'btcusd-2017-02-06.csv', 'btcusd-2017-02-07.csv', 'btcusd-2017-02-08.csv', 'btcusd-2017-02-09.csv', 'btcusd-2017-02-10.csv', 'btcusd-2017-02-11.csv', 'btcusd-2017-02-12.csv', 'btcusd-2017-02-13.csv', 'btcusd-2017-02-14.csv', 'btcusd-2017-02-15.csv', 'btcusd-2017-02-16.csv', 'btcusd-2017-02-17.csv', 'btcusd-2017-02-18.csv', 'btcusd-2017-02-19.csv', 'btcusd-2017-02-20.csv', 'btcusd-2017-02-21.csv', 'btcusd-2017-02-22.csv', 'btcusd-2017-02-23.csv', 'btcusd-2017-02-24.csv', 'btcusd-2017-02-25.csv', 'btcusd-2017-02-26.csv', 'btcusd-2017-02-27.csv', 'btcusd-2017-02-28.csv', 'btcusd-2017-03-01.csv', 'btcusd-2017-03-02.csv', 'btcusd-2017-03-03.csv', 'btcusd-2017-03-04.csv', 'btcusd-2017-03-05.csv', 'btcusd-2017-03-06.csv', 'btcusd-2017-03-07.csv', 'btcusd-2017-03-08.csv', 'btcusd-2017-03-09.csv', 'btcusd-2017-03-10.csv', 'btcusd-2017-03-11.csv', 'btcusd-2017-03-12.csv', 'btcusd-2017-03-13.csv', 'btcusd-2017-03-14.csv', 'btcusd-2017-03-15.csv', 'btcusd-2017-03-16.csv', 'btcusd-2017-03-17.csv', 'btcusd-2017-03-18.csv', 'btcusd-2017-03-19.csv', 'btcusd-2017-03-20.csv', 'btcusd-2017-03-21.csv', 'btcusd-2017-03-22.csv', 'btcusd-2017-03-23.csv', 'btcusd-2017-03-24.csv', 'btcusd-2017-03-25.csv', 'btcusd-2017-03-26.csv', 'btcusd-2017-03-27.csv', 'btcusd-2017-03-28.csv', 'btcusd-2017-03-29.csv', 'btcusd-2017-03-30.csv', 'btcusd-2017-03-31.csv', 'btcusd-2017-04-01.csv', 'btcusd-2017-04-02.csv', 'btcusd-2017-04-03.csv', 'btcusd-2017-04-04.csv', 'btcusd-2017-04-05.csv', 'btcusd-2017-04-06.csv', 'btcusd-2017-04-07.csv', 'btcusd-2017-04-08.csv', 'btcusd-2017-04-09.csv', 'btcusd-2017-04-10.csv', 'btcusd-2017-04-11.csv', 'btcusd-2017-04-12.csv', 'btcusd-2017-04-13.csv', 'btcusd-2017-04-14.csv', 'btcusd-2017-04-15.csv', 'btcusd-2017-04-16.csv', 'btcusd-2017-04-17.csv', 'btcusd-2017-04-18.csv', 'btcusd-2017-04-19.csv', 'btcusd-2017-04-20.csv', 'btcusd-2017-04-21.csv', 'btcusd-2017-04-22.csv', 'btcusd-2017-04-23.csv', 'btcusd-2017-04-24.csv', 'btcusd-2017-04-25.csv', 'btcusd-2017-04-26.csv', 'btcusd-2017-04-27.csv', 'btcusd-2017-04-28.csv', 'btcusd-2017-04-29.csv', 'btcusd-2017-04-30.csv', 'btcusd-2017-05-01.csv', 'btcusd-2017-05-02.csv', 'btcusd-2017-05-03.csv', 'btcusd-2017-05-04.csv', 'btcusd-2017-05-05.csv', 'btcusd-2017-05-06.csv', 'btcusd-2017-05-07.csv', 'btcusd-2017-05-08.csv', 'btcusd-2017-05-09.csv', 'btcusd-2017-05-10.csv', 'btcusd-2017-05-11.csv', 'btcusd-2017-05-12.csv', 'btcusd-2017-05-13.csv', 'btcusd-2017-05-14.csv', 'btcusd-2017-05-15.csv', 'btcusd-2017-05-16.csv', 'btcusd-2017-05-17.csv', 'btcusd-2017-05-18.csv', 'btcusd-2017-05-19.csv', 'btcusd-2017-05-20.csv', 'btcusd-2017-05-21.csv', 'btcusd-2017-05-22.csv', 'btcusd-2017-05-23.csv', 'btcusd-2017-05-24.csv', 'btcusd-2017-05-25.csv', 'btcusd-2017-05-26.csv', 'btcusd-2017-05-27.csv', 'btcusd-2017-05-28.csv', 'btcusd-2017-05-29.csv', 'btcusd-2017-05-30.csv', 'btcusd-2017-05-31.csv', 'btcusd-2017-06-01.csv', 'btcusd-2017-06-02.csv', 'btcusd-2017-06-03.csv', 'btcusd-2017-06-04.csv', 'btcusd-2017-06-05.csv', 'btcusd-2017-06-06.csv', 'btcusd-2017-06-07.csv', 'btcusd-2017-06-08.csv', 'btcusd-2017-06-09.csv', 'btcusd-2017-06-10.csv', 'btcusd-2017-06-11.csv', 'btcusd-2017-06-12.csv', 'btcusd-2017-06-13.csv', 'btcusd-2017-06-14.csv', 'btcusd-2017-06-15.csv', 'btcusd-2017-06-16.csv', 'btcusd-2017-06-17.csv', 'btcusd-2017-06-18.csv', 'btcusd-2017-06-19.csv', 'btcusd-2017-06-20.csv', 'btcusd-2017-06-21.csv', 'btcusd-2017-06-22.csv', 'btcusd-2017-06-23.csv', 'btcusd-2017-06-24.csv', 'btcusd-2017-06-25.csv', 'btcusd-2017-06-26.csv', 'btcusd-2017-06-27.csv', 'btcusd-2017-06-28.csv', 'btcusd-2017-06-29.csv', 'btcusd-2017-06-30.csv', 'btcusd-2017-07-01.csv', 'btcusd-2017-07-02.csv', 'btcusd-2017-07-03.csv', 'btcusd-2017-07-04.csv', 'btcusd-2017-07-05.csv', 'btcusd-2017-07-06.csv', 'btcusd-2017-07-07.csv', 'btcusd-2017-07-08.csv', 'btcusd-2017-07-09.csv', 'btcusd-2017-07-10.csv', 'btcusd-2017-07-11.csv', 'btcusd-2017-07-12.csv', 'btcusd-2017-07-13.csv', 'btcusd-2017-07-14.csv', 'btcusd-2017-07-15.csv', 'btcusd-2017-07-16.csv', 'btcusd-2017-07-17.csv', 'btcusd-2017-07-18.csv', 'btcusd-2017-07-19.csv', 'btcusd-2017-07-20.csv', 'btcusd-2017-07-21.csv', 'btcusd-2017-07-22.csv', 'btcusd-2017-07-23.csv', 'btcusd-2017-07-24.csv', 'btcusd-2017-07-25.csv', 'btcusd-2017-07-26.csv', 'btcusd-2017-07-27.csv', 'btcusd-2017-07-28.csv', 'btcusd-2017-07-29.csv', 'btcusd-2017-07-30.csv', 'btcusd-2017-07-31.csv', 'btcusd-2017-08-01.csv', 'btcusd-2017-08-02.csv', 'btcusd-2017-08-03.csv', 'btcusd-2017-08-04.csv', 'btcusd-2017-08-05.csv', 'btcusd-2017-08-06.csv', 'btcusd-2017-08-07.csv', 'btcusd-2017-08-08.csv', 'btcusd-2017-08-09.csv', 'btcusd-2017-08-10.csv', 'btcusd-2017-08-11.csv', 'btcusd-2017-08-12.csv', 'btcusd-2017-08-13.csv', 'btcusd-2017-08-14.csv', 'btcusd-2017-08-15.csv', 'btcusd-2017-08-16.csv', 'btcusd-2017-08-17.csv', 'btcusd-2017-08-18.csv', 'btcusd-2017-08-19.csv', 'btcusd-2017-08-20.csv', 'btcusd-2017-08-21.csv', 'btcusd-2017-08-22.csv', 'btcusd-2017-08-23.csv', 'btcusd-2017-08-24.csv', 'btcusd-2017-08-25.csv', 'btcusd-2017-08-26.csv', 'btcusd-2017-08-27.csv', 'btcusd-2017-08-28.csv', 'btcusd-2017-08-29.csv', 'btcusd-2017-08-30.csv', 'btcusd-2017-08-31.csv', 'btcusd-2017-09-01.csv', 'btcusd-2017-09-02.csv', 'btcusd-2017-09-03.csv', 'btcusd-2017-09-04.csv', 'btcusd-2017-09-05.csv', 'btcusd-2017-09-06.csv', 'btcusd-2017-09-07.csv', 'btcusd-2017-09-08.csv', 'btcusd-2017-09-09.csv', 'btcusd-2017-09-10.csv', 'btcusd-2017-09-11.csv', 'btcusd-2017-09-12.csv', 'btcusd-2017-09-13.csv', 'btcusd-2017-09-14.csv', 'btcusd-2017-09-15.csv', 'btcusd-2017-09-16.csv', 'btcusd-2017-09-17.csv', 'btcusd-2017-09-18.csv', 'btcusd-2017-09-19.csv', 'btcusd-2017-09-20.csv', 'btcusd-2017-09-21.csv', 'btcusd-2017-09-22.csv', 'btcusd-2017-09-23.csv', 'btcusd-2017-09-24.csv', 'btcusd-2017-09-25.csv', 'btcusd-2017-09-26.csv', 'btcusd-2017-09-27.csv', 'btcusd-2017-09-28.csv', 'btcusd-2017-09-29.csv', 'btcusd-2017-09-30.csv', 'btcusd-2017-10-01.csv', 'btcusd-2017-10-02.csv', 'btcusd-2017-10-03.csv', 'btcusd-2017-10-04.csv', 'btcusd-2017-10-05.csv', 'btcusd-2017-10-06.csv', 'btcusd-2017-10-07.csv', 'btcusd-2017-10-08.csv', 'btcusd-2017-10-09.csv', 'btcusd-2017-10-10.csv', 'btcusd-2017-10-11.csv', 'btcusd-2017-10-12.csv', 'btcusd-2017-10-13.csv', 'btcusd-2017-10-14.csv', 'btcusd-2017-10-15.csv', 'btcusd-2017-10-16.csv', 'btcusd-2017-10-17.csv', 'btcusd-2017-10-18.csv', 'btcusd-2017-10-19.csv', 'btcusd-2017-10-20.csv', 'btcusd-2017-10-21.csv', 'btcusd-2017-10-22.csv', 'btcusd-2017-10-23.csv', 'btcusd-2017-10-24.csv', 'btcusd-2017-10-25.csv', 'btcusd-2017-10-26.csv', 'btcusd-2017-10-27.csv', 'btcusd-2017-10-28.csv', 'btcusd-2017-10-29.csv', 'btcusd-2017-10-30.csv', 'btcusd-2017-10-31.csv', 'btcusd-2017-11-01.csv', 'btcusd-2017-11-02.csv', 'btcusd-2017-11-03.csv', 'btcusd-2017-11-04.csv', 'btcusd-2017-11-05.csv', 'btcusd-2017-11-06.csv', 'btcusd-2017-11-07.csv', 'btcusd-2017-11-08.csv', 'btcusd-2017-11-09.csv', 'btcusd-2017-11-10.csv', 'btcusd-2017-11-11.csv', 'btcusd-2017-11-12.csv', 'btcusd-2017-11-13.csv', 'btcusd-2017-11-14.csv', 'btcusd-2017-11-15.csv', 'btcusd-2017-11-16.csv', 'btcusd-2017-11-17.csv', 'btcusd-2017-11-18.csv', 'btcusd-2017-11-19.csv', 'btcusd-2017-11-20.csv', 'btcusd-2017-11-21.csv', 'btcusd-2017-11-22.csv', 'btcusd-2017-11-23.csv', 'btcusd-2017-11-24.csv', 'btcusd-2017-11-25.csv', 'btcusd-2017-11-26.csv', 'btcusd-2017-11-27.csv', 'btcusd-2017-11-28.csv', 'btcusd-2017-11-29.csv', 'btcusd-2017-11-30.csv', 'btcusd-2017-12-01.csv', 'btcusd-2017-12-02.csv', 'btcusd-2017-12-03.csv', 'btcusd-2017-12-04.csv', 'btcusd-2017-12-05.csv', 'btcusd-2017-12-06.csv', 'btcusd-2017-12-07.csv', 'btcusd-2017-12-08.csv', 'btcusd-2017-12-09.csv', 'btcusd-2017-12-10.csv', 'btcusd-2017-12-11.csv', 'btcusd-2017-12-12.csv', 'btcusd-2017-12-13.csv', 'btcusd-2017-12-14.csv', 'btcusd-2017-12-15.csv', 'btcusd-2017-12-16.csv', 'btcusd-2017-12-17.csv', 'btcusd-2017-12-18.csv', 'btcusd-2017-12-19.csv', 'btcusd-2017-12-20.csv', 'btcusd-2017-12-21.csv', 'btcusd-2017-12-22.csv', 'btcusd-2017-12-23.csv', 'btcusd-2017-12-24.csv', 'btcusd-2017-12-25.csv', 'btcusd-2017-12-26.csv', 'btcusd-2017-12-27.csv', 'btcusd-2017-12-28.csv', 'btcusd-2017-12-29.csv', 'btcusd-2017-12-30.csv', 'btcusd-2017-12-31.csv', 'btcusd-2018-01-01.csv', 'btcusd-2018-01-02.csv', 'btcusd-2018-01-03.csv', 'btcusd-2018-01-04.csv', 'btcusd-2018-01-05.csv', 'btcusd-2018-01-06.csv', 'btcusd-2018-01-07.csv', 'btcusd-2018-01-08.csv', 'btcusd-2018-01-09.csv', 'btcusd-2018-01-10.csv', 'btcusd-2018-01-11.csv', 'btcusd-2018-01-12.csv', 'btcusd-2018-01-13.csv', 'btcusd-2018-01-14.csv', 'btcusd-2018-01-15.csv', 'btcusd-2018-01-16.csv', 'btcusd-2018-01-17.csv', 'btcusd-2018-01-18.csv', 'btcusd-2018-01-19.csv', 'btcusd-2018-01-20.csv', 'btcusd-2018-01-21.csv', 'btcusd-2018-01-22.csv', 'btcusd-2018-01-23.csv', 'btcusd-2018-01-24.csv', 'btcusd-2018-01-25.csv', 'btcusd-2018-01-26.csv', 'btcusd-2018-01-27.csv', 'btcusd-2018-01-28.csv', 'btcusd-2018-01-29.csv', 'btcusd-2018-01-30.csv', 'btcusd-2018-01-31.csv', 'btcusd-2018-02-01.csv', 'btcusd-2018-02-02.csv', 'btcusd-2018-02-03.csv', 'btcusd-2018-02-04.csv', 'btcusd-2018-02-05.csv', 'btcusd-2018-02-06.csv', 'btcusd-2018-02-07.csv', 'btcusd-2018-02-08.csv', 'btcusd-2018-02-09.csv', 'btcusd-2018-02-10.csv', 'btcusd-2018-02-11.csv', 'btcusd-2018-02-12.csv', 'btcusd-2018-02-13.csv', 'btcusd-2018-02-14.csv', 'btcusd-2018-02-15.csv', 'btcusd-2018-02-16.csv', 'btcusd-2018-02-17.csv', 'btcusd-2018-02-18.csv', 'btcusd-2018-02-19.csv', 'btcusd-2018-02-20.csv', 'btcusd-2018-02-21.csv', 'btcusd-2018-02-22.csv', 'btcusd-2018-02-23.csv', 'btcusd-2018-02-24.csv', 'btcusd-2018-02-25.csv', 'btcusd-2018-02-26.csv', 'btcusd-2018-02-27.csv', 'btcusd-2018-02-28.csv', 'btcusd-2018-03-01.csv', 'btcusd-2018-03-02.csv', 'btcusd-2018-03-03.csv', 'btcusd-2018-03-04.csv', 'btcusd-2018-03-05.csv', 'btcusd-2018-03-06.csv', 'btcusd-2018-03-07.csv', 'btcusd-2018-03-08.csv', 'btcusd-2018-03-09.csv', 'btcusd-2018-03-10.csv', 'btcusd-2018-03-11.csv', 'btcusd-2018-03-12.csv', 'btcusd-2018-03-13.csv', 'btcusd-2018-03-14.csv', 'btcusd-2018-03-15.csv', 'btcusd-2018-03-16.csv', 'btcusd-2018-03-17.csv', 'btcusd-2018-03-18.csv', 'btcusd-2018-03-19.csv', 'btcusd-2018-03-20.csv', 'btcusd-2018-03-21.csv', 'btcusd-2018-03-22.csv', 'btcusd-2018-03-23.csv', 'btcusd-2018-03-24.csv', 'btcusd-2018-03-25.csv', 'btcusd-2018-03-26.csv', 'btcusd-2018-03-27.csv', 'btcusd-2018-03-28.csv', 'btcusd-2018-03-29.csv', 'btcusd-2018-03-30.csv', 'btcusd-2018-03-31.csv', 'btcusd-2018-04-01.csv', 'btcusd-2018-04-02.csv', 'btcusd-2018-04-03.csv', 'btcusd-2018-04-04.csv', 'btcusd-2018-04-05.csv', 'btcusd-2018-04-06.csv', 'btcusd-2018-04-07.csv', 'btcusd-2018-04-08.csv', 'btcusd-2018-04-09.csv', 'btcusd-2018-04-10.csv', 'btcusd-2018-04-11.csv', 'btcusd-2018-04-12.csv', 'btcusd-2018-04-13.csv', 'btcusd-2018-04-14.csv', 'btcusd-2018-04-15.csv', 'btcusd-2018-04-16.csv', 'btcusd-2018-04-17.csv', 'btcusd-2018-04-18.csv', 'btcusd-2018-04-19.csv', 'btcusd-2018-04-20.csv', 'btcusd-2018-04-21.csv', 'btcusd-2018-04-22.csv', 'btcusd-2018-04-23.csv', 'btcusd-2018-04-24.csv', 'btcusd-2018-04-25.csv', 'btcusd-2018-04-26.csv', 'btcusd-2018-04-27.csv', 'btcusd-2018-04-28.csv', 'btcusd-2018-04-29.csv', 'btcusd-2018-04-30.csv', 'btcusd-2018-05-01.csv', 'btcusd-2018-05-02.csv', 'btcusd-2018-05-03.csv', 'btcusd-2018-05-04.csv', 'btcusd-2018-05-05.csv', 'btcusd-2018-05-06.csv', 'btcusd-2018-05-07.csv', 'btcusd-2018-05-08.csv', 'btcusd-2018-05-09.csv', 'btcusd-2018-05-10.csv', 'btcusd-2018-05-11.csv', 'btcusd-2018-05-12.csv', 'btcusd-2018-05-13.csv', 'btcusd-2018-05-14.csv', 'btcusd-2018-05-15.csv', 'btcusd-2018-05-16.csv', 'btcusd-2018-05-17.csv', 'btcusd-2018-05-18.csv', 'btcusd-2018-05-19.csv', 'btcusd-2018-05-20.csv', 'btcusd-2018-05-21.csv', 'btcusd-2018-05-22.csv', 'btcusd-2018-05-23.csv', 'btcusd-2018-05-24.csv', 'btcusd-2018-05-25.csv', 'btcusd-2018-05-26.csv', 'btcusd-2018-05-27.csv', 'btcusd-2018-05-28.csv', 'btcusd-2018-05-29.csv', 'btcusd-2018-05-30.csv', 'btcusd-2018-05-31.csv', 'btcusd-2018-06-01.csv', 'btcusd-2018-06-02.csv', 'btcusd-2018-06-03.csv', 'btcusd-2018-06-04.csv', 'btcusd-2018-06-05.csv', 'btcusd-2018-06-06.csv', 'btcusd-2018-06-07.csv', 'btcusd-2018-06-08.csv', 'btcusd-2018-06-09.csv', 'btcusd-2018-06-10.csv', 'btcusd-2018-06-11.csv', 'btcusd-2018-06-12.csv', 'btcusd-2018-06-13.csv', 'btcusd-2018-06-14.csv', 'btcusd-2018-06-15.csv', 'btcusd-2018-06-16.csv', 'btcusd-2018-06-17.csv', 'btcusd-2018-06-18.csv', 'btcusd-2018-06-19.csv', 'btcusd-2018-06-20.csv', 'btcusd-2018-06-21.csv', 'btcusd-2018-06-22.csv', 'btcusd-2018-06-23.csv', 'btcusd-2018-06-24.csv', 'btcusd-2018-06-25.csv', 'btcusd-2018-06-26.csv', 'btcusd-2018-06-27.csv', 'btcusd-2018-06-28.csv', 'btcusd-2018-06-29.csv', 'btcusd-2018-06-30.csv', 'btcusd-2018-07-01.csv', 'btcusd-2018-07-02.csv', 'btcusd-2018-07-03.csv', 'btcusd-2018-07-04.csv', 'btcusd-2018-07-05.csv', 'btcusd-2018-07-06.csv', 'btcusd-2018-07-07.csv', 'btcusd-2018-07-08.csv', 'btcusd-2018-07-09.csv', 'btcusd-2018-07-10.csv', 'btcusd-2018-07-11.csv', 'btcusd-2018-07-12.csv', 'btcusd-2018-07-13.csv', 'btcusd-2018-07-14.csv', 'btcusd-2018-07-15.csv', 'btcusd-2018-07-16.csv', 'btcusd-2018-07-17.csv', 'btcusd-2018-07-18.csv', 'btcusd-2018-07-19.csv', 'btcusd-2018-07-20.csv', 'btcusd-2018-07-21.csv', 'btcusd-2018-07-22.csv', 'btcusd-2018-07-23.csv', 'btcusd-2018-07-24.csv', 'btcusd-2018-07-25.csv', 'btcusd-2018-07-26.csv', 'btcusd-2018-07-27.csv', 'btcusd-2018-07-28.csv', 'btcusd-2018-07-29.csv', 'btcusd-2018-07-30.csv', 'btcusd-2018-07-31.csv', 'btcusd-2018-08-01.csv', 'btcusd-2018-08-02.csv', 'btcusd-2018-08-03.csv', 'btcusd-2018-08-04.csv', 'btcusd-2018-08-05.csv', 'btcusd-2018-08-06.csv', 'btcusd-2018-08-07.csv', 'btcusd-2018-08-08.csv', 'btcusd-2018-08-09.csv', 'btcusd-2018-08-10.csv', 'btcusd-2018-08-11.csv', 'btcusd-2018-08-12.csv', 'btcusd-2018-08-13.csv', 'btcusd-2018-08-14.csv', 'btcusd-2018-08-15.csv', 'btcusd-2018-08-16.csv', 'btcusd-2018-08-17.csv', 'btcusd-2018-08-18.csv', 'btcusd-2018-08-19.csv', 'btcusd-2018-08-20.csv', 'btcusd-2018-08-21.csv', 'btcusd-2018-08-22.csv', 'btcusd-2018-08-23.csv', 'btcusd-2018-08-24.csv', 'btcusd-2018-08-25.csv', 'btcusd-2018-08-26.csv', 'btcusd-2018-08-27.csv', 'btcusd-2018-08-28.csv', 'btcusd-2018-08-29.csv', 'btcusd-2018-08-30.csv', 'btcusd-2018-08-31.csv', 'btcusd-2018-09-01.csv', 'btcusd-2018-09-02.csv', 'btcusd-2018-09-03.csv', 'btcusd-2018-09-04.csv', 'btcusd-2018-09-05.csv', 'btcusd-2018-09-06.csv', 'btcusd-2018-09-07.csv', 'btcusd-2018-09-08.csv', 'btcusd-2018-09-09.csv', 'btcusd-2018-09-10.csv', 'btcusd-2018-09-11.csv', 'btcusd-2018-09-12.csv', 'btcusd-2018-09-13.csv', 'btcusd-2018-09-14.csv', 'btcusd-2018-09-15.csv', 'btcusd-2018-09-16.csv', 'btcusd-2018-09-17.csv', 'btcusd-2018-09-18.csv', 'btcusd-2018-09-19.csv', 'btcusd-2018-09-20.csv', 'btcusd-2018-09-21.csv', 'btcusd-2018-09-22.csv', 'btcusd-2018-09-23.csv', 'btcusd-2018-09-24.csv', 'btcusd-2018-09-25.csv', 'btcusd-2018-09-26.csv', 'btcusd-2018-09-27.csv', 'btcusd-2018-09-28.csv', 'btcusd-2018-09-29.csv', 'btcusd-2018-09-30.csv', 'btcusd-2018-10-01.csv', 'btcusd-2018-10-02.csv', 'btcusd-2018-10-03.csv', 'btcusd-2018-10-04.csv', 'btcusd-2018-10-05.csv', 'btcusd-2018-10-06.csv', 'btcusd-2018-10-07.csv', 'btcusd-2018-10-08.csv', 'btcusd-2018-10-09.csv', 'btcusd-2018-10-10.csv', 'btcusd-2018-10-11.csv', 'btcusd-2018-10-12.csv', 'btcusd-2018-10-13.csv', 'btcusd-2018-10-14.csv', 'btcusd-2018-10-15.csv', 'btcusd-2018-10-16.csv', 'btcusd-2018-10-17.csv', 'btcusd-2018-10-18.csv', 'btcusd-2018-10-19.csv', 'btcusd-2018-10-20.csv', 'btcusd-2018-10-21.csv', 'btcusd-2018-10-22.csv', 'btcusd-2018-10-23.csv', 'btcusd-2018-10-24.csv', 'btcusd-2018-10-25.csv', 'btcusd-2018-10-26.csv', 'btcusd-2018-10-27.csv', 'btcusd-2018-10-28.csv', 'btcusd-2018-10-29.csv', 'btcusd-2018-10-30.csv', 'btcusd-2018-10-31.csv', 'btcusd-2018-11-01.csv', 'btcusd-2018-11-02.csv', 'btcusd-2018-11-03.csv', 'btcusd-2018-11-04.csv', 'btcusd-2018-11-05.csv', 'btcusd-2018-11-06.csv', 'btcusd-2018-11-07.csv', 'btcusd-2018-11-08.csv', 'btcusd-2018-11-09.csv', 'btcusd-2018-11-10.csv', 'btcusd-2018-11-11.csv', 'btcusd-2018-11-12.csv', 'btcusd-2018-11-13.csv', 'btcusd-2018-11-14.csv', 'btcusd-2018-11-15.csv', 'btcusd-2018-11-16.csv', 'btcusd-2018-11-17.csv', 'btcusd-2018-11-18.csv', 'btcusd-2018-11-19.csv', 'btcusd-2018-11-20.csv', 'btcusd-2018-11-21.csv', 'btcusd-2018-11-22.csv', 'btcusd-2018-11-23.csv', 'btcusd-2018-11-24.csv', 'btcusd-2018-11-25.csv', 'btcusd-2018-11-26.csv', 'btcusd-2018-11-27.csv', 'btcusd-2018-11-28.csv', 'btcusd-2018-11-29.csv', 'btcusd-2018-11-30.csv', 'btcusd-2018-12-01.csv', 'btcusd-2018-12-02.csv', 'btcusd-2018-12-03.csv', 'btcusd-2018-12-04.csv', 'btcusd-2018-12-05.csv', 'btcusd-2018-12-06.csv', 'btcusd-2018-12-07.csv', 'btcusd-2018-12-08.csv', 'btcusd-2018-12-09.csv', 'btcusd-2018-12-10.csv', 'btcusd-2018-12-11.csv', 'btcusd-2018-12-12.csv', 'btcusd-2018-12-13.csv', 'btcusd-2018-12-14.csv', 'btcusd-2018-12-15.csv', 'btcusd-2018-12-16.csv', 'btcusd-2018-12-17.csv', 'btcusd-2018-12-18.csv', 'btcusd-2018-12-19.csv', 'btcusd-2018-12-20.csv', 'btcusd-2018-12-21.csv', 'btcusd-2018-12-22.csv', 'btcusd-2018-12-23.csv', 'btcusd-2018-12-24.csv', 'btcusd-2018-12-25.csv', 'btcusd-2018-12-26.csv', 'btcusd-2018-12-27.csv', 'btcusd-2018-12-28.csv', 'btcusd-2018-12-29.csv', 'btcusd-2018-12-30.csv', 'btcusd-2018-12-31.csv', 'btcusd-2019-01-01.csv', 'btcusd-2019-01-02.csv', 'btcusd-2019-01-03.csv', 'btcusd-2019-01-04.csv', 'btcusd-2019-01-05.csv', 'btcusd-2019-01-06.csv', 'btcusd-2019-01-07.csv', 'btcusd-2019-01-08.csv', 'btcusd-2019-01-09.csv', 'btcusd-2019-01-10.csv', 'btcusd-2019-01-11.csv', 'btcusd-2019-01-12.csv', 'btcusd-2019-01-13.csv', 'btcusd-2019-01-14.csv', 'btcusd-2019-01-15.csv', 'btcusd-2019-01-16.csv', 'btcusd-2019-01-17.csv', 'btcusd-2019-01-18.csv', 'btcusd-2019-01-19.csv', 'btcusd-2019-01-20.csv', 'btcusd-2019-01-21.csv', 'btcusd-2019-01-22.csv', 'btcusd-2019-01-23.csv', 'btcusd-2019-01-24.csv', 'btcusd-2019-01-25.csv', 'btcusd-2019-01-26.csv', 'btcusd-2019-01-27.csv', 'btcusd-2019-01-28.csv', 'btcusd-2019-01-29.csv', 'btcusd-2019-01-30.csv', 'btcusd-2019-01-31.csv', 'btcusd-2019-02-01.csv', 'btcusd-2019-02-02.csv', 'btcusd-2019-02-03.csv', 'btcusd-2019-02-04.csv', 'btcusd-2019-02-05.csv', 'btcusd-2019-02-06.csv', 'btcusd-2019-02-07.csv', 'btcusd-2019-02-08.csv', 'btcusd-2019-02-09.csv', 'btcusd-2019-02-10.csv', 'btcusd-2019-02-11.csv', 'btcusd-2019-02-12.csv', 'btcusd-2019-02-13.csv', 'btcusd-2019-02-14.csv', 'btcusd-2019-02-15.csv', 'btcusd-2019-02-16.csv', 'btcusd-2019-02-17.csv', 'btcusd-2019-02-18.csv', 'btcusd-2019-02-19.csv', 'btcusd-2019-02-20.csv', 'btcusd-2019-02-21.csv', 'btcusd-2019-02-22.csv', 'btcusd-2019-02-23.csv', 'btcusd-2019-02-24.csv', 'btcusd-2019-02-25.csv', 'btcusd-2019-02-26.csv', 'btcusd-2019-02-27.csv', 'btcusd-2019-02-28.csv', 'btcusd-2019-03-01.csv', 'btcusd-2019-03-02.csv', 'btcusd-2019-03-03.csv', 'btcusd-2019-03-04.csv', 'btcusd-2019-03-05.csv', 'btcusd-2019-03-06.csv', 'btcusd-2019-03-07.csv', 'btcusd-2019-03-08.csv', 'btcusd-2019-03-09.csv', 'btcusd-2019-03-10.csv', 'btcusd-2019-03-11.csv', 'btcusd-2019-03-12.csv', 'btcusd-2019-03-13.csv', 'btcusd-2019-03-14.csv', 'btcusd-2019-03-15.csv', 'btcusd-2019-03-16.csv', 'btcusd-2019-03-17.csv', 'btcusd-2019-03-18.csv', 'btcusd-2019-03-19.csv', 'btcusd-2019-03-20.csv', 'btcusd-2019-03-21.csv', 'btcusd-2019-03-22.csv', 'btcusd-2019-03-23.csv', 'btcusd-2019-03-24.csv', 'btcusd-2019-03-25.csv', 'btcusd-2019-03-26.csv', 'btcusd-2019-03-27.csv', 'btcusd-2019-03-28.csv', 'btcusd-2019-03-29.csv', 'btcusd-2019-03-30.csv', 'btcusd-2019-03-31.csv', 'btcusd-2019-04-01.csv', 'btcusd-2019-04-02.csv', 'btcusd-2019-04-03.csv', 'btcusd-2019-04-04.csv', 'btcusd-2019-04-05.csv', 'btcusd-2019-04-06.csv', 'btcusd-2019-04-07.csv', 'btcusd-2019-04-08.csv', 'btcusd-2019-04-09.csv', 'btcusd-2019-04-10.csv', 'btcusd-2019-04-11.csv', 'btcusd-2019-04-12.csv', 'btcusd-2019-04-13.csv', 'btcusd-2019-04-14.csv', 'btcusd-2019-04-15.csv', 'btcusd-2019-04-16.csv', 'btcusd-2019-04-17.csv', 'btcusd-2019-04-18.csv', 'btcusd-2019-04-19.csv', 'btcusd-2019-04-20.csv', 'btcusd-2019-04-21.csv', 'btcusd-2019-04-22.csv', 'btcusd-2019-04-23.csv', 'btcusd-2019-04-24.csv', 'btcusd-2019-04-25.csv', 'btcusd-2019-04-26.csv', 'btcusd-2019-04-27.csv', 'btcusd-2019-04-28.csv', 'btcusd-2019-04-29.csv', 'btcusd-2019-04-30.csv', 'btcusd-2019-05-01.csv', 'btcusd-2019-05-02.csv', 'btcusd-2019-05-03.csv', 'btcusd-2019-05-04.csv', 'btcusd-2019-05-05.csv', 'btcusd-2019-05-06.csv', 'btcusd-2019-05-07.csv', 'btcusd-2019-05-08.csv', 'btcusd-2019-05-09.csv', 'btcusd-2019-05-10.csv', 'btcusd-2019-05-11.csv', 'btcusd-2019-05-12.csv', 'btcusd-2019-05-13.csv', 'btcusd-2019-05-14.csv', 'btcusd-2019-05-15.csv', 'btcusd-2019-05-16.csv', 'btcusd-2019-05-17.csv', 'btcusd-2019-05-18.csv', 'btcusd-2019-05-19.csv', 'btcusd-2019-05-20.csv', 'btcusd-2019-05-21.csv', 'btcusd-2019-05-22.csv', 'btcusd-2019-05-23.csv', 'btcusd-2019-05-24.csv', 'btcusd-2019-05-25.csv', 'btcusd-2019-05-26.csv', 'btcusd-2019-05-27.csv', 'btcusd-2019-05-28.csv', 'btcusd-2019-05-29.csv', 'btcusd-2019-05-30.csv', 'btcusd-2019-05-31.csv', 'btcusd-2019-06-01.csv', 'btcusd-2019-06-02.csv', 'btcusd-2019-06-03.csv', 'btcusd-2019-06-04.csv', 'btcusd-2019-06-05.csv', 'btcusd-2019-06-06.csv', 'btcusd-2019-06-07.csv', 'btcusd-2019-06-08.csv', 'btcusd-2019-06-09.csv', 'btcusd-2019-06-10.csv', 'btcusd-2019-06-11.csv', 'btcusd-2019-06-12.csv', 'btcusd-2019-06-13.csv', 'btcusd-2019-06-14.csv', 'btcusd-2019-06-15.csv', 'btcusd-2019-06-16.csv', 'btcusd-2019-06-17.csv', 'btcusd-2019-06-18.csv', 'btcusd-2019-06-19.csv', 'btcusd-2019-06-20.csv', 'btcusd-2019-06-21.csv', 'btcusd-2019-06-22.csv', 'btcusd-2019-06-23.csv', 'btcusd-2019-06-24.csv', 'btcusd-2019-06-25.csv', 'btcusd-2019-06-26.csv', 'btcusd-2019-06-27.csv', 'btcusd-2019-06-28.csv', 'btcusd-2019-06-29.csv', 'btcusd-2019-06-30.csv', 'btcusd-2019-07-01.csv', 'btcusd-2019-07-02.csv', 'btcusd-2019-07-03.csv', 'btcusd-2019-07-04.csv', 'btcusd-2019-07-05.csv', 'btcusd-2019-07-06.csv', 'btcusd-2019-07-07.csv', 'btcusd-2019-07-08.csv', 'btcusd-2019-07-09.csv', 'btcusd-2019-07-10.csv', 'btcusd-2019-07-11.csv', 'btcusd-2019-07-12.csv', 'btcusd-2019-07-13.csv', 'btcusd-2019-07-14.csv', 'btcusd-2019-07-15.csv', 'btcusd-2019-07-16.csv', 'btcusd-2019-07-17.csv', 'btcusd-2019-07-18.csv', 'btcusd-2019-07-19.csv', 'btcusd-2019-07-20.csv', 'btcusd-2019-07-21.csv', 'btcusd-2019-07-22.csv', 'btcusd-2019-07-23.csv', 'btcusd-2019-07-24.csv', 'btcusd-2019-07-25.csv', 'btcusd-2019-07-26.csv', 'btcusd-2019-07-27.csv', 'btcusd-2019-07-28.csv', 'btcusd-2019-07-29.csv', 'btcusd-2019-07-30.csv', 'btcusd-2019-07-31.csv', 'btcusd-2019-08-01.csv', 'btcusd-2019-08-02.csv', 'btcusd-2019-08-03.csv', 'btcusd-2019-08-04.csv', 'btcusd-2019-08-05.csv', 'btcusd-2019-08-06.csv', 'btcusd-2019-08-07.csv', 'btcusd-2019-08-08.csv', 'btcusd-2019-08-09.csv', 'btcusd-2019-08-10.csv', 'btcusd-2019-08-11.csv', 'btcusd-2019-08-12.csv', 'btcusd-2019-08-13.csv', 'btcusd-2019-08-14.csv', 'btcusd-2019-08-15.csv', 'btcusd-2019-08-16.csv', 'btcusd-2019-08-17.csv', 'btcusd-2019-08-18.csv', 'btcusd-2019-08-19.csv', 'btcusd-2019-08-20.csv', 'btcusd-2019-08-21.csv', 'btcusd-2019-08-22.csv', 'btcusd-2019-08-23.csv', 'btcusd-2019-08-24.csv', 'btcusd-2019-08-25.csv', 'btcusd-2019-08-26.csv', 'btcusd-2019-08-27.csv', 'btcusd-2019-08-28.csv', 'btcusd-2019-08-29.csv', 'btcusd-2019-08-30.csv', 'btcusd-2019-08-31.csv', 'btcusd-2019-09-01.csv', 'btcusd-2019-09-02.csv', 'btcusd-2019-09-03.csv', 'btcusd-2019-09-04.csv', 'btcusd-2019-09-05.csv', 'btcusd-2019-09-06.csv', 'btcusd-2019-09-07.csv', 'btcusd-2019-09-08.csv', 'btcusd-2019-09-09.csv', 'btcusd-2019-09-10.csv', 'btcusd-2019-09-11.csv', 'btcusd-2019-09-12.csv', 'btcusd-2019-09-13.csv', 'btcusd-2019-09-14.csv', 'btcusd-2019-09-15.csv', 'btcusd-2019-09-16.csv', 'btcusd-2019-09-17.csv', 'btcusd-2019-09-18.csv', 'btcusd-2019-09-19.csv', 'btcusd-2019-09-20.csv', 'btcusd-2019-09-21.csv', 'btcusd-2019-09-22.csv', 'btcusd-2019-09-23.csv', 'btcusd-2019-09-24.csv', 'btcusd-2019-09-25.csv', 'btcusd-2019-09-26.csv', 'btcusd-2019-09-27.csv', 'btcusd-2019-09-28.csv', 'btcusd-2019-09-29.csv', 'btcusd-2019-09-30.csv', 'btcusd-2019-10-01.csv', 'btcusd-2019-10-02.csv', 'btcusd-2019-10-03.csv', 'btcusd-2019-10-04.csv', 'btcusd-2019-10-05.csv', 'btcusd-2019-10-06.csv', 'btcusd-2019-10-07.csv', 'btcusd-2019-10-08.csv', 'btcusd-2019-10-09.csv', 'btcusd-2019-10-10.csv', 'btcusd-2019-10-11.csv', 'btcusd-2019-10-12.csv', 'btcusd-2019-10-13.csv', 'btcusd-2019-10-14.csv', 'btcusd-2019-10-15.csv', 'btcusd-2019-10-16.csv', 'btcusd-2019-10-17.csv', 'btcusd-2019-10-18.csv', 'btcusd-2019-10-19.csv', 'btcusd-2019-10-20.csv', 'btcusd-2019-10-21.csv', 'btcusd-2019-10-22.csv', 'btcusd-2019-10-23.csv', 'btcusd-2019-10-24.csv', 'btcusd-2019-10-25.csv', 'btcusd-2019-10-26.csv', 'btcusd-2019-10-27.csv', 'btcusd-2019-10-28.csv', 'btcusd-2019-10-29.csv', 'btcusd-2019-10-30.csv', 'btcusd-2019-10-31.csv', 'btcusd-2019-11-01.csv', 'btcusd-2019-11-02.csv', 'btcusd-2019-11-03.csv', 'btcusd-2019-11-04.csv', 'btcusd-2019-11-05.csv', 'btcusd-2019-11-06.csv', 'btcusd-2019-11-07.csv', 'btcusd-2019-11-08.csv', 'btcusd-2019-11-09.csv', 'btcusd-2019-11-10.csv', 'btcusd-2019-11-11.csv', 'btcusd-2019-11-12.csv', 'btcusd-2019-11-13.csv', 'btcusd-2019-11-14.csv', 'btcusd-2019-11-15.csv', 'btcusd-2019-11-16.csv', 'btcusd-2019-11-17.csv', 'btcusd-2019-11-18.csv', 'btcusd-2019-11-19.csv', 'btcusd-2019-11-20.csv', 'btcusd-2019-11-21.csv', 'btcusd-2019-11-22.csv', 'btcusd-2019-11-23.csv', 'btcusd-2019-11-24.csv', 'btcusd-2019-11-25.csv', 'btcusd-2019-11-26.csv', 'btcusd-2019-11-27.csv', 'btcusd-2019-11-28.csv', 'btcusd-2019-11-29.csv', 'btcusd-2019-11-30.csv', 'btcusd-2019-12-01.csv', 'btcusd-2019-12-02.csv', 'btcusd-2019-12-03.csv', 'btcusd-2019-12-04.csv', 'btcusd-2019-12-05.csv', 'btcusd-2019-12-06.csv', 'btcusd-2019-12-07.csv', 'btcusd-2019-12-08.csv', 'btcusd-2019-12-09.csv', 'btcusd-2019-12-10.csv', 'btcusd-2019-12-11.csv', 'btcusd-2019-12-12.csv', 'btcusd-2019-12-13.csv', 'btcusd-2019-12-14.csv', 'btcusd-2019-12-15.csv', 'btcusd-2019-12-16.csv', 'btcusd-2019-12-17.csv', 'btcusd-2019-12-18.csv', 'btcusd-2019-12-19.csv', 'btcusd-2019-12-20.csv', 'btcusd-2019-12-21.csv', 'btcusd-2019-12-22.csv', 'btcusd-2019-12-23.csv', 'btcusd-2019-12-24.csv', 'btcusd-2019-12-25.csv', 'btcusd-2019-12-26.csv', 'btcusd-2019-12-27.csv', 'btcusd-2019-12-28.csv', 'btcusd-2019-12-29.csv', 'btcusd-2019-12-30.csv', 'btcusd-2019-12-31.csv', 'btcusd-2020-01-01.csv', 'btcusd-2020-01-02.csv', 'btcusd-2020-01-03.csv', 'btcusd-2020-01-04.csv', 'btcusd-2020-01-05.csv', 'btcusd-2020-01-06.csv', 'btcusd-2020-01-07.csv', 'btcusd-2020-01-08.csv', 'btcusd-2020-01-09.csv', 'btcusd-2020-01-10.csv', 'btcusd-2020-01-11.csv', 'btcusd-2020-01-12.csv', 'btcusd-2020-01-13.csv', 'btcusd-2020-01-14.csv', 'btcusd-2020-01-15.csv', 'btcusd-2020-01-16.csv', 'btcusd-2020-01-17.csv', 'btcusd-2020-01-18.csv', 'btcusd-2020-01-19.csv', 'btcusd-2020-01-20.csv', 'btcusd-2020-01-21.csv', 'btcusd-2020-01-22.csv', 'btcusd-2020-01-23.csv', 'btcusd-2020-01-24.csv', 'btcusd-2020-01-25.csv', 'btcusd-2020-01-26.csv', 'btcusd-2020-01-27.csv', 'btcusd-2020-01-28.csv', 'btcusd-2020-01-29.csv', 'btcusd-2020-01-30.csv', 'btcusd-2020-01-31.csv', 'btcusd-2020-02-01.csv', 'btcusd-2020-02-02.csv', 'btcusd-2020-02-03.csv', 'btcusd-2020-02-04.csv', 'btcusd-2020-02-05.csv', 'btcusd-2020-02-06.csv', 'btcusd-2020-02-07.csv', 'btcusd-2020-02-08.csv', 'btcusd-2020-02-09.csv', 'btcusd-2020-02-10.csv', 'btcusd-2020-02-11.csv', 'btcusd-2020-02-12.csv', 'btcusd-2020-02-13.csv', 'btcusd-2020-02-14.csv', 'btcusd-2020-02-15.csv', 'btcusd-2020-02-16.csv', 'btcusd-2020-02-17.csv', 'btcusd-2020-02-18.csv', 'btcusd-2020-02-19.csv', 'btcusd-2020-02-20.csv', 'btcusd-2020-02-21.csv', 'btcusd-2020-02-22.csv', 'btcusd-2020-02-23.csv', 'btcusd-2020-02-24.csv', 'btcusd-2020-02-25.csv', 'btcusd-2020-02-26.csv', 'btcusd-2020-02-27.csv', 'btcusd-2020-02-28.csv', 'btcusd-2020-02-29.csv', 'btcusd-2020-03-01.csv', 'btcusd-2020-03-02.csv', 'btcusd-2020-03-03.csv', 'btcusd-2020-03-04.csv', 'btcusd-2020-03-05.csv', 'btcusd-2020-03-06.csv', 'btcusd-2020-03-07.csv', 'btcusd-2020-03-08.csv', 'btcusd-2020-03-09.csv', 'btcusd-2020-03-10.csv', 'btcusd-2020-03-11.csv', 'btcusd-2020-03-12.csv', 'btcusd-2020-03-13.csv', 'btcusd-2020-03-14.csv', 'btcusd-2020-03-15.csv', 'btcusd-2020-03-16.csv', 'btcusd-2020-03-17.csv', 'btcusd-2020-03-18.csv', 'btcusd-2020-03-19.csv', 'btcusd-2020-03-20.csv', 'btcusd-2020-03-21.csv', 'btcusd-2020-03-22.csv', 'btcusd-2020-03-23.csv', 'btcusd-2020-03-24.csv', 'btcusd-2020-03-25.csv', 'btcusd-2020-03-26.csv', 'btcusd-2020-03-27.csv', 'btcusd-2020-03-28.csv', 'btcusd-2020-03-29.csv', 'btcusd-2020-03-30.csv', 'btcusd-2020-03-31.csv', 'btcusd-2020-04-01.csv', 'btcusd-2020-04-02.csv', 'btcusd-2020-04-03.csv', 'btcusd-2020-04-04.csv', 'btcusd-2020-04-05.csv', 'btcusd-2020-04-06.csv', 'btcusd-2020-04-07.csv', 'btcusd-2020-04-08.csv', 'btcusd-2020-04-09.csv', 'btcusd-2020-04-10.csv', 'btcusd-2020-04-11.csv', 'btcusd-2020-04-12.csv', 'btcusd-2020-04-13.csv', 'btcusd-2020-04-14.csv', 'btcusd-2020-04-15.csv', 'btcusd-2020-04-16.csv', 'btcusd-2020-04-17.csv', 'btcusd-2020-04-18.csv', 'btcusd-2020-04-19.csv', 'btcusd-2020-04-20.csv', 'btcusd-2020-04-21.csv', 'btcusd-2020-04-22.csv', 'btcusd-2020-04-23.csv', 'btcusd-2020-04-24.csv', 'btcusd-2020-04-25.csv', 'btcusd-2020-04-26.csv', 'btcusd-2020-04-27.csv', 'btcusd-2020-04-28.csv', 'btcusd-2020-04-29.csv', 'btcusd-2020-04-30.csv', 'btcusd-2020-05-01.csv', 'btcusd-2020-05-02.csv', 'btcusd-2020-05-03.csv', 'btcusd-2020-05-04.csv', 'btcusd-2020-05-05.csv', 'btcusd-2020-05-06.csv', 'btcusd-2020-05-07.csv', 'btcusd-2020-05-08.csv', 'btcusd-2020-05-09.csv', 'btcusd-2020-05-10.csv', 'btcusd-2020-05-11.csv', 'btcusd-2020-05-12.csv', 'btcusd-2020-05-13.csv', 'btcusd-2020-05-14.csv', 'btcusd-2020-05-15.csv', 'btcusd-2020-05-16.csv', 'btcusd-2020-05-17.csv', 'btcusd-2020-05-18.csv', 'btcusd-2020-05-19.csv', 'btcusd-2020-05-20.csv', 'btcusd-2020-05-21.csv', 'btcusd-2020-05-22.csv', 'btcusd-2020-05-23.csv', 'btcusd-2020-05-24.csv', 'btcusd-2020-05-25.csv', 'btcusd-2020-05-26.csv', 'btcusd-2020-05-27.csv', 'btcusd-2020-05-28.csv', 'btcusd-2020-05-29.csv', 'btcusd-2020-05-30.csv', 'btcusd-2020-05-31.csv', 'btcusd-2020-06-01.csv', 'btcusd-2020-06-02.csv', 'btcusd-2020-06-03.csv', 'btcusd-2020-06-04.csv', 'btcusd-2020-06-05.csv', 'btcusd-2020-06-06.csv', 'btcusd-2020-06-07.csv', 'btcusd-2020-06-08.csv', 'btcusd-2020-06-09.csv', 'btcusd-2020-06-10.csv', 'btcusd-2020-06-11.csv', 'btcusd-2020-06-12.csv', 'btcusd-2020-06-13.csv', 'btcusd-2020-06-14.csv', 'btcusd-2020-06-15.csv', 'btcusd-2020-06-16.csv', 'btcusd-2020-06-17.csv', 'btcusd-2020-06-18.csv', 'btcusd-2020-06-19.csv', 'btcusd-2020-06-20.csv', 'btcusd-2020-06-21.csv', 'btcusd-2020-06-22.csv', 'btcusd-2020-06-23.csv', 'btcusd-2020-06-24.csv', 'btcusd-2020-06-25.csv', 'btcusd-2020-06-26.csv', 'btcusd-2020-06-27.csv', 'btcusd-2020-06-28.csv', 'btcusd-2020-06-29.csv', 'btcusd-2020-06-30.csv', 'btcusd-2020-07-01.csv', 'btcusd-2020-07-02.csv', 'btcusd-2020-07-03.csv', 'btcusd-2020-07-04.csv', 'btcusd-2020-07-05.csv', 'btcusd-2020-07-06.csv', 'btcusd-2020-07-07.csv', 'btcusd-2020-07-08.csv', 'btcusd-2020-07-09.csv', 'btcusd-2020-07-10.csv', 'btcusd-2020-07-11.csv', 'btcusd-2020-07-12.csv', 'btcusd-2020-07-13.csv', 'btcusd-2020-07-14.csv', 'btcusd-2020-07-15.csv', 'btcusd-2020-07-16.csv', 'btcusd-2020-07-17.csv', 'btcusd-2020-07-18.csv', 'btcusd-2020-07-19.csv', 'btcusd-2020-07-20.csv', 'btcusd-2020-07-21.csv', 'btcusd-2020-07-22.csv', 'btcusd-2020-07-23.csv', 'btcusd-2020-07-24.csv', 'btcusd-2020-07-25.csv', 'btcusd-2020-07-26.csv', 'btcusd-2020-07-27.csv', 'btcusd-2020-07-28.csv', 'btcusd-2020-07-29.csv', 'btcusd-2020-07-30.csv', 'btcusd-2020-07-31.csv', 'btcusd-2020-08-01.csv', 'btcusd-2020-08-02.csv', 'btcusd-2020-08-03.csv', 'btcusd-2020-08-04.csv', 'btcusd-2020-08-05.csv', 'btcusd-2020-08-06.csv', 'btcusd-2020-08-07.csv', 'btcusd-2020-08-08.csv', 'btcusd-2020-08-09.csv', 'btcusd-2020-08-10.csv', 'btcusd-2020-08-11.csv', 'btcusd-2020-08-12.csv', 'btcusd-2020-08-13.csv', 'btcusd-2020-08-14.csv', 'btcusd-2020-08-15.csv', 'btcusd-2020-08-16.csv', 'btcusd-2020-08-17.csv', 'btcusd-2020-08-18.csv', 'btcusd-2020-08-19.csv', 'btcusd-2020-08-20.csv', 'btcusd-2020-08-21.csv', 'btcusd-2020-08-22.csv', 'btcusd-2020-08-23.csv', 'btcusd-2020-08-24.csv', 'btcusd-2020-08-25.csv', 'btcusd-2020-08-26.csv', 'btcusd-2020-08-27.csv', 'btcusd-2020-08-28.csv', 'btcusd-2020-08-29.csv', 'btcusd-2020-08-30.csv', 'btcusd-2020-08-31.csv', 'btcusd-2020-09-01.csv', 'btcusd-2020-09-02.csv', 'btcusd-2020-09-03.csv', 'btcusd-2020-09-04.csv', 'btcusd-2020-09-05.csv', 'btcusd-2020-09-06.csv', 'btcusd-2020-09-07.csv', 'btcusd-2020-09-08.csv', 'btcusd-2020-09-09.csv', 'btcusd-2020-09-10.csv', 'btcusd-2020-09-11.csv', 'btcusd-2020-09-12.csv', 'btcusd-2020-09-13.csv', 'btcusd-2020-09-14.csv', 'btcusd-2020-09-15.csv', 'btcusd-2020-09-16.csv', 'btcusd-2020-09-17.csv', 'btcusd-2020-09-18.csv', 'btcusd-2020-09-19.csv', 'btcusd-2020-09-20.csv', 'btcusd-2020-09-21.csv', 'btcusd-2020-09-22.csv', 'btcusd-2020-09-23.csv', 'btcusd-2020-09-24.csv', 'btcusd-2020-09-25.csv', 'btcusd-2020-09-26.csv', 'btcusd-2020-09-27.csv', 'btcusd-2020-09-28.csv', 'btcusd-2020-09-29.csv', 'btcusd-2020-09-30.csv', 'btcusd-2020-10-01.csv', 'btcusd-2020-10-02.csv', 'btcusd-2020-10-03.csv', 'btcusd-2020-10-04.csv', 'btcusd-2020-10-05.csv', 'btcusd-2020-10-06.csv', 'btcusd-2020-10-07.csv', 'btcusd-2020-10-08.csv', 'btcusd-2020-10-09.csv', 'btcusd-2020-10-10.csv', 'btcusd-2020-10-11.csv', 'btcusd-2020-10-12.csv', 'btcusd-2020-10-13.csv', 'btcusd-2020-10-14.csv', 'btcusd-2020-10-15.csv', 'btcusd-2020-10-16.csv', 'btcusd-2020-10-17.csv', 'btcusd-2020-10-18.csv', 'btcusd-2020-10-19.csv', 'btcusd-2020-10-20.csv', 'btcusd-2020-10-21.csv', 'btcusd-2020-10-22.csv', 'btcusd-2020-10-23.csv', 'btcusd-2020-10-24.csv', 'btcusd-2020-10-25.csv', 'btcusd-2020-10-26.csv', 'btcusd-2020-10-27.csv', 'btcusd-2020-10-28.csv', 'btcusd-2020-10-29.csv', 'btcusd-2020-10-30.csv', 'btcusd-2020-10-31.csv', 'btcusd-2020-11-01.csv', 'btcusd-2020-11-02.csv', 'btcusd-2020-11-03.csv', 'btcusd-2020-11-04.csv', 'btcusd-2020-11-05.csv', 'btcusd-2020-11-06.csv', 'btcusd-2020-11-07.csv', 'btcusd-2020-11-08.csv', 'btcusd-2020-11-09.csv', 'btcusd-2020-11-10.csv', 'btcusd-2020-11-11.csv', 'btcusd-2020-11-12.csv', 'btcusd-2020-11-13.csv', 'btcusd-2020-11-14.csv', 'btcusd-2020-11-15.csv', 'btcusd-2020-11-16.csv', 'btcusd-2020-11-17.csv', 'btcusd-2020-11-18.csv', 'btcusd-2020-11-19.csv', 'btcusd-2020-11-20.csv', 'btcusd-2020-11-21.csv', 'btcusd-2020-11-22.csv', 'btcusd-2020-11-23.csv', 'btcusd-2020-11-24.csv', 'btcusd-2020-11-25.csv', 'btcusd-2020-11-26.csv', 'btcusd-2020-11-27.csv', 'btcusd-2020-11-28.csv', 'btcusd-2020-11-29.csv', 'btcusd-2020-11-30.csv', 'btcusd-2020-12-01.csv', 'btcusd-2020-12-02.csv', 'btcusd-2020-12-03.csv', 'btcusd-2020-12-04.csv', 'btcusd-2020-12-05.csv', 'btcusd-2020-12-06.csv', 'btcusd-2020-12-07.csv', 'btcusd-2020-12-08.csv', 'btcusd-2020-12-09.csv', 'btcusd-2020-12-10.csv', 'btcusd-2020-12-11.csv', 'btcusd-2020-12-12.csv', 'btcusd-2020-12-13.csv', 'btcusd-2020-12-14.csv', 'btcusd-2020-12-15.csv', 'btcusd-2020-12-16.csv', 'btcusd-2020-12-17.csv', 'btcusd-2020-12-18.csv', 'btcusd-2020-12-19.csv', 'btcusd-2020-12-20.csv', 'btcusd-2020-12-21.csv', 'btcusd-2020-12-22.csv', 'btcusd-2020-12-23.csv', 'btcusd-2020-12-24.csv', 'btcusd-2020-12-25.csv', 'btcusd-2020-12-26.csv', 'btcusd-2020-12-27.csv', 'btcusd-2020-12-28.csv', 'btcusd-2020-12-29.csv', 'btcusd-2020-12-30.csv', 'btcusd-2020-12-31.csv']\n"
     ]
    }
   ],
   "source": [
    "def sort_files_by_date(folder_path):\n",
    "    files = [f for f in os.listdir(folder_path)]\n",
    "    files.sort()\n",
    "    return files\n",
    "\n",
    "print(sort_files_by_date(\"dataset\"))\n"
   ]
  },
  {
   "cell_type": "code",
   "execution_count": null,
   "id": "bdb41b6b",
   "metadata": {},
   "outputs": [],
   "source": [
    "def get_max_timestamp(cursor):\n",
    "    timestamp = cursor.execute(\"SELECT MAX(timestamp) FROM bitcoin_prices;\")\n",
    "    if (timestamp is not None and timestamp.tzinfo is None):\n",
    "        timestamp = timestamp.replace(tzinfo=timezone.utc)\n",
    "    return cursor.fetchone()[0]"
   ]
  },
  {
   "cell_type": "markdown",
   "id": "ca86bb0d",
   "metadata": {},
   "source": [
    "## Iteratively Extract files"
   ]
  },
  {
   "cell_type": "code",
   "execution_count": 102,
   "id": "28994737",
   "metadata": {},
   "outputs": [],
   "source": [
    "def insert_all_data_to_db(folder_path, conn, cursor):\n",
    "    if (conn.closed == 1):\n",
    "        raise Exception(\"DB connection is closed\")\n",
    "    \n",
    "    if (cursor.closed == 1):\n",
    "        raise Exception(\"DB cursor is closed\")\n",
    "    \n",
    "    file_names = sort_files_by_date(folder_path)\n",
    "    max_timestamp = get_max_timestamp(cursor) or datetime.min.replace(tzinfo=timezone.utc)\n",
    "\n",
    "    for file_name in file_names:\n",
    "        try:\n",
    "            date = parse_file_name(file_name)\n",
    "            curr_file_timestamp = datetime.combine(datetime.strptime(date, '%Y-%m-%d').date(), time.max).replace(tzinfo=timezone.utc)\n",
    "            if (max_timestamp >= curr_file_timestamp):\n",
    "                print(f\"Skipping {file_name}\")\n",
    "                continue\n",
    "            print(f\"Parsing {file_name}\")\n",
    "            df = extract_csv_contents(folder_path, file_name)\n",
    "            insert_df_to_db(df, cursor)\n",
    "            conn.commit()\n",
    "        except Exception as e:\n",
    "            print(f\"Problem reading file {file_name} with error {e}.\")"
   ]
  },
  {
   "cell_type": "markdown",
   "id": "b623b190",
   "metadata": {},
   "source": [
    "## Put it all together"
   ]
  },
  {
   "cell_type": "code",
   "execution_count": null,
   "id": "b19d881a",
   "metadata": {},
   "outputs": [],
   "source": [
    "insert_all_data_to_db(\"dataset\", conn, cursor)\n"
   ]
  },
  {
   "cell_type": "code",
   "execution_count": 138,
   "id": "c172b121",
   "metadata": {},
   "outputs": [],
   "source": [
    "conn.close()\n",
    "cursor.close()"
   ]
  },
  {
   "cell_type": "markdown",
   "id": "306e2e74",
   "metadata": {},
   "source": [
    "## Pasting Directly into DB"
   ]
  },
  {
   "cell_type": "code",
   "execution_count": null,
   "id": "f56ed2fa",
   "metadata": {},
   "outputs": [],
   "source": [
    "create_temp_table = f\"\"\"CREATE TEMP TABLE temp_bitcoin_prices (\n",
    "  time_text       text PRIMARY KEY,\n",
    "  open            NUMERIC,\n",
    "  high            NUMERIC,\n",
    "  low             NUMERIC,\n",
    "  close           NUMERIC,\n",
    "  volume_btc      NUMERIC,\n",
    "  volume_usd      NUMERIC,\n",
    "  weighted_price  NUMERIC\n",
    ") ON COMMIT DROP;\"\"\"\n",
    "cursor.execute(create_temp_table)\n",
    "\n"
   ]
  },
  {
   "cell_type": "code",
   "execution_count": null,
   "id": "dbfe4991",
   "metadata": {},
   "outputs": [],
   "source": [
    "with open(\"dataset/btcusd-2011-12-31.csv\", 'r') as f:\n",
    "                cursor.copy_expert(f\"\"\"\n",
    "                    COPY temp_bitcoin_prices(\"time_text\", \"open\", \"high\", \"low\", \"close\", \"volume_btc\", \"volume_usd\", \"weighted_price\")\n",
    "                    FROM STDIN WITH (FORMAT csv, HEADER, NULL '');\n",
    "                    \"\"\", f)"
   ]
  },
  {
   "cell_type": "code",
   "execution_count": 142,
   "id": "d5a77eb1",
   "metadata": {},
   "outputs": [],
   "source": [
    "date_str = \"2011-12-31\"\n",
    "insert_sql = f\"\"\"\n",
    "    INSERT INTO bitcoin_prices (timestamp, \"open\", \"high\", \"low\", \"close\", \"volume_btc\", \"volume_usd\", \"weighted_price\")\n",
    "    SELECT\n",
    "        ('{date_str}'::date + (time_text::interval))::timestamptz,\n",
    "        \"open\",\n",
    "        \"high\",\n",
    "        \"low\",\n",
    "        \"close\",\n",
    "        \"volume_btc\",\n",
    "        \"volume_usd\",\n",
    "        \"weighted_price\"\n",
    "    FROM\n",
    "        temp_bitcoin_prices\n",
    "    WHERE\n",
    "        \"open\" IS NOT NULL AND\n",
    "        \"high\" IS NOT NULL AND\n",
    "        \"low\" IS NOT NULL AND\n",
    "        \"close\" IS NOT NULL AND\n",
    "        \"volume_btc\" IS NOT NULL AND\n",
    "        \"volume_usd\" IS NOT NULL AND\n",
    "        \"weighted_price\" IS NOT NULL\n",
    "    ON CONFLICT (timestamp) DO NOTHING;\n",
    "    \"\"\"\n",
    "cursor.execute(insert_sql)"
   ]
  },
  {
   "cell_type": "code",
   "execution_count": 152,
   "id": "1ea6eccf",
   "metadata": {},
   "outputs": [],
   "source": [
    "def copy_csv_into_db(file_name, date_str, cursor):\n",
    "    # temp table make\n",
    "    create_temp_table = f\"\"\"CREATE TEMP TABLE temp_bitcoin_prices (\n",
    "        time_text       text PRIMARY KEY,\n",
    "        open            NUMERIC,\n",
    "        high            NUMERIC,\n",
    "        low             NUMERIC,\n",
    "        close           NUMERIC,\n",
    "        volume_btc      NUMERIC,\n",
    "        volume_usd      NUMERIC,\n",
    "        weighted_price  NUMERIC\n",
    "        ) ON COMMIT DROP;\"\"\"\n",
    "    cursor.execute(create_temp_table)\n",
    "\n",
    "    # copy csv to temp\n",
    "    with open(f\"dataset/{file_name}\", 'r') as f:\n",
    "        cursor.copy_expert(f\"\"\"\n",
    "            COPY temp_bitcoin_prices(\"time_text\", \"open\", \"high\", \"low\", \"close\", \"volume_btc\", \"volume_usd\", \"weighted_price\")\n",
    "            FROM STDIN WITH (FORMAT csv, HEADER, NULL '');\n",
    "            \"\"\", f)\n",
    "    \n",
    "    # paste modified temp to db\n",
    "    insert_sql = f\"\"\"\n",
    "    INSERT INTO bitcoin_prices (timestamp, \"open\", \"high\", \"low\", \"close\", \"volume_btc\", \"volume_usd\", \"weighted_price\")\n",
    "    SELECT\n",
    "        ('{date_str}'::date + (time_text::interval))::timestamptz,\n",
    "        \"open\",\n",
    "        \"high\",\n",
    "        \"low\",\n",
    "        \"close\",\n",
    "        \"volume_btc\",\n",
    "        \"volume_usd\",\n",
    "        \"weighted_price\"\n",
    "    FROM\n",
    "        temp_bitcoin_prices\n",
    "    WHERE\n",
    "        \"open\" IS NOT NULL AND\n",
    "        \"high\" IS NOT NULL AND\n",
    "        \"low\" IS NOT NULL AND\n",
    "        \"close\" IS NOT NULL AND\n",
    "        \"volume_btc\" IS NOT NULL AND\n",
    "        \"volume_usd\" IS NOT NULL AND\n",
    "        \"weighted_price\" IS NOT NULL\n",
    "    ON CONFLICT (timestamp) DO NOTHING;\n",
    "    \"\"\"\n",
    "\n",
    "    cursor.execute(insert_sql)"
   ]
  },
  {
   "cell_type": "code",
   "execution_count": 144,
   "id": "533014b0",
   "metadata": {},
   "outputs": [],
   "source": [
    "conn.commit()"
   ]
  },
  {
   "cell_type": "code",
   "execution_count": 153,
   "id": "21eb518d",
   "metadata": {},
   "outputs": [],
   "source": [
    "def copy_all_data_to_db(folder_path, conn, cursor):\n",
    "    if (conn.closed == 1):\n",
    "        raise Exception(\"DB connection is closed\")\n",
    "    \n",
    "    if (cursor.closed == 1):\n",
    "        raise Exception(\"DB cursor is closed\")\n",
    "    \n",
    "    file_names = sort_files_by_date(folder_path)\n",
    "    max_timestamp = get_max_timestamp(cursor) or datetime.min.replace(tzinfo=timezone.utc)\n",
    "\n",
    "    for file_name in file_names:\n",
    "        try:\n",
    "            date = parse_file_name(file_name)\n",
    "            curr_file_timestamp = datetime.combine(datetime.strptime(date, '%Y-%m-%d').date(), time.max).replace(tzinfo=timezone.utc)\n",
    "            if (max_timestamp >= curr_file_timestamp):\n",
    "                print(f\"Skipping {file_name}\")\n",
    "                continue\n",
    "            print(f\"Parsing {file_name}\")\n",
    "            copy_csv_into_db(file_name, date, cursor)\n",
    "            conn.commit()\n",
    "        except Exception as e:\n",
    "            print(f\"Problem reading file {file_name} with error {e}.\")\n",
    "        break"
   ]
  },
  {
   "cell_type": "code",
   "execution_count": 154,
   "id": "acedf533",
   "metadata": {},
   "outputs": [
    {
     "name": "stdout",
     "output_type": "stream",
     "text": [
      "Parsing btcusd-2011-12-31.csv\n"
     ]
    }
   ],
   "source": [
    "copy_all_data_to_db(\"dataset\", conn, cursor)"
   ]
  }
 ],
 "metadata": {
  "kernelspec": {
   "display_name": ".venv",
   "language": "python",
   "name": "python3"
  },
  "language_info": {
   "codemirror_mode": {
    "name": "ipython",
    "version": 3
   },
   "file_extension": ".py",
   "mimetype": "text/x-python",
   "name": "python",
   "nbconvert_exporter": "python",
   "pygments_lexer": "ipython3",
   "version": "3.13.7"
  }
 },
 "nbformat": 4,
 "nbformat_minor": 5
}
